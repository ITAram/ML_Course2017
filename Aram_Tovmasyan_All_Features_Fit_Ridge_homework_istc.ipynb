{
 "cells": [
  {
   "cell_type": "code",
   "execution_count": 0,
   "metadata": {
    "colab": {
     "autoexec": {
      "startup": false,
      "wait_interval": 0
     }
    },
    "colab_type": "code",
    "collapsed": true,
    "id": "Y70RiwsW1e9y"
   },
   "outputs": [],
   "source": [
    "import numpy as np\n",
    "import sys\n",
    "import pandas as pd\n"
   ]
  },
  {
   "cell_type": "code",
   "execution_count": 0,
   "metadata": {
    "colab": {
     "autoexec": {
      "startup": false,
      "wait_interval": 0
     }
    },
    "colab_type": "code",
    "collapsed": true,
    "id": "cloOcKJ6phIi"
   },
   "outputs": [],
   "source": [
    "def fit_ridge_regression(X, Y, l):\n",
    "    \"\"\"\n",
    "    Calculates and returns analityc solution for ridge regression.\n",
    "\n",
    "    :param X: data matrix (2 dimensional np.array)\n",
    "    :param Y: response variables (1 dimensional np.array)\n",
    "    :param l: regularization parameter lambda\n",
    "    :return: value of beta (1 dimensional np.array)\n",
    "    \"\"\"\n",
    "    \n",
    "    # TODO: Implement fit_ridge_regression (same as previous homeworks)\n",
    "    \n",
    "    #beta = np.zeros(X.shape[1])\n",
    "    beta = np.dot(np.dot(np.linalg.inv(np.dot(X.T,X)-l),X.T),Y)\n",
    "    return beta\n"
   ]
  },
  {
   "cell_type": "code",
   "execution_count": 0,
   "metadata": {
    "colab": {
     "autoexec": {
      "startup": false,
      "wait_interval": 0
     }
    },
    "colab_type": "code",
    "collapsed": true,
    "id": "pzFhRDNRxUQf"
   },
   "outputs": [],
   "source": [
    "def cost_function(X, Y, beta):\n",
    "  \n",
    "  m = Y.shape[0]\n",
    "  #J = np.sum((X.dot(beta)-Y)**2)/2/m\n",
    "  J = np.sqrt(np.sum((X.dot(beta)-Y)**2)/m)\n",
    "  return J\n",
    "\n"
   ]
  },
  {
   "cell_type": "code",
   "execution_count": 0,
   "metadata": {
    "colab": {
     "autoexec": {
      "startup": false,
      "wait_interval": 0
     }
    },
    "colab_type": "code",
    "collapsed": true,
    "id": "XapOyWFE1uzg"
   },
   "outputs": [],
   "source": [
    "\n",
    "def gradient_descent(X, Y, l, epsilon, step_size, max_steps):\n",
    "    \"\"\"\n",
    "    Implement gradient descent using the value of the gradient\n",
    "    divided by number of samples.\n",
    "\n",
    "    :param X: data matrix (2 dimensional np.array)\n",
    "    :param Y: response variables (1 dimensional np.array)\n",
    "    :param l: regularization parameter lambda\n",
    "    :param epsilon: approximation strength\n",
    "    :param max_steps: maximum number of iterations before algorithm will\n",
    "        terminate.\n",
    "    :return: value of beta (1 dimensional np.array)\n",
    "    \"\"\"\n",
    "    beta = np.zeros(X.shape[1])\n",
    "    previous_beta= np.zeros(X.shape[1])\n",
    "    #print X.shape[1]\n",
    "    for s in range(max_steps):\n",
    "        # TODO: Implement iterations.\n",
    "        # Use normalized_gradient to calculate the gradient\n",
    "        \n",
    "        m = Y.shape[0]\n",
    "        #print('size',m)\n",
    "        \n",
    "        hypothesis = X.dot(beta)\n",
    "        #print('hypothesis', hypothesis.head())\n",
    "        \n",
    "        loss = hypothesis-Y\n",
    "        #print('loss', loss.head())\n",
    "        \n",
    "        \n",
    "        \n",
    "        gradient = X.T.dot(loss)/m\n",
    "        #print('gradient', gradient.head())\n",
    "        \n",
    "        beta = beta-step_size*gradient+l*beta\n",
    "        #print('beta',beta)\n",
    "        #print(max(beta -previous_beta) )\n",
    "        \n",
    "        diff = hypothesis-(X.dot(beta.T))\n",
    "        #print('diff',diff.dot(diff.T))\n",
    "       \n",
    "        if (diff.dot(diff.T)) <epsilon:\n",
    "         # print( max(abs(diff))) \n",
    "          print(diff.dot(diff.T),'is less then epsilon')\n",
    "          break\n",
    "        \n",
    "       \n",
    "    return beta"
   ]
  },
  {
   "cell_type": "markdown",
   "metadata": {
    "colab_type": "text",
    "id": "rTEbA0o7AnBR"
   },
   "source": []
  },
  {
   "cell_type": "code",
   "execution_count": 0,
   "metadata": {
    "colab": {
     "autoexec": {
      "startup": false,
      "wait_interval": 0
     }
    },
    "colab_type": "code",
    "collapsed": true,
    "id": "esS1DLdH1vtV"
   },
   "outputs": [],
   "source": [
    "def ridge_loss_gradient(X, Y, beta, l):\n",
    "    \"\"\"\n",
    "    This function calculates the gradient for ridge regression for\n",
    "    parameter values beta.\n",
    "\n",
    "    :param X: data matrix (2 dimensional np.array)\n",
    "    :param Y: response variables (1 dimensional np.array)\n",
    "    :param beta: value of beta (1 dimensional np.array)\n",
    "    :param l: regularization parameter lambda\n",
    "    :return: normalized gradient, i.e. gradient normalized according to data\n",
    "    \"\"\"\n",
    "    # TODO: Implement\n",
    "    return np.zeros(X.shape[1])"
   ]
  },
  {
   "cell_type": "code",
   "execution_count": 0,
   "metadata": {
    "colab": {
     "autoexec": {
      "startup": false,
      "wait_interval": 0
     }
    },
    "colab_type": "code",
    "collapsed": true,
    "id": "2LyOS4el1wM0"
   },
   "outputs": [],
   "source": [
    "\n",
    "def loss(X, Y, beta):\n",
    "    \"\"\"\n",
    "    Calculate sum of error squares divided by number of points.\n",
    "\n",
    "    :param X: data matrix (2 dimensional np.array)\n",
    "    :param Y: response variables (1 dimensional np.array)\n",
    "    :param beta: value of beta (1 dimensional np.array)\n",
    "    :return: 1/N * SUM (y - x beta)^2\n",
    "    \"\"\"\n",
    "    #print(X.shape[0])\n",
    "    #print(np.dot(X,beta.T))\n",
    "    #print((Y - np.dot(X,beta.T)))\n",
    "    #print((Y - np.dot(X,beta.T))**2)\n",
    "    #print(np.sum((Y - np.dot(X,beta.T))**2))\n",
    "    return  (1.0/X.shape[0]) * np.sum((Y - np.dot(X,beta.T))**2)\n",
    "   "
   ]
  },
  {
   "cell_type": "code",
   "execution_count": 0,
   "metadata": {
    "colab": {
     "autoexec": {
      "startup": false,
      "wait_interval": 0
     }
    },
    "colab_type": "code",
    "collapsed": true,
    "id": "XRXLUp6X1wWi"
   },
   "outputs": [],
   "source": [
    "def d_dimensional_comparison(d, beta_star, num_points, sigma, l=1):\n",
    "    # Generate data, no need to touch this code.\n",
    "    beta_star = np.array(beta_star)\n",
    "    X_list = [np.random.uniform(-1, 1, num_points) for _ in range(d)]\n",
    "    X = np.column_stack(X_list)\n",
    "    X = np.column_stack((np.ones(num_points), X))\n",
    "    Y = np.random.normal(X.dot(beta_star), sigma)\n",
    "   \n",
    "\n",
    "    # Calculate analytic and gradient descent beta hats.\n",
    "    beta_hat_analytic = fit_ridge_regression(X, Y, l=l)\n",
    "    beta_hat_grad = gradient_descent(X, Y, l=l, epsilon=1e-8, step_size=1e-2,\n",
    "                                     max_steps=10000)\n",
    "\n",
    "    # Testing code for your esimates.\n",
    "    if np.linalg.norm(beta_star - beta_hat_analytic) > 1.:\n",
    "        print('Your analytical betas is too far apart from beta star')\n",
    "        print('Analytical: ', beta_hat_analytic)\n",
    "        print('Beta star: ', beta_star)\n",
    "        \n",
    "\n",
    "    if np.linalg.norm(beta_hat_grad - beta_hat_analytic) > 1e-4:\n",
    "        print('Your gradient descent beta is too far apart from analytical '\n",
    "              'solution')\n",
    "        print('Beta gradient: ', beta_hat_grad)\n",
    "        print('Analytical: ', beta_hat_analytic)\n",
    "        \n",
    "\n",
    "    l_a = loss(X, Y, beta_hat_analytic)\n",
    "    l_gd = loss(X, Y, beta_hat_grad)\n",
    "    if abs((l_a - l_gd) / l_a) > 1e-8:\n",
    "        print('Your gradient and analytical losses are too far apart')\n",
    "        print('analytical loss:', l_a)\n",
    "        print('gradient loss:', l_gd)\n",
    "        \n",
    "\n",
    "    print('Passed')"
   ]
  },
  {
   "cell_type": "code",
   "execution_count": 8,
   "metadata": {
    "colab": {
     "autoexec": {
      "startup": false,
      "wait_interval": 0
     },
     "base_uri": "https://localhost:8080/",
     "height": 34,
     "output_extras": [
      {
       "item_id": 1
      }
     ]
    },
    "colab_type": "code",
    "collapsed": false,
    "executionInfo": {
     "elapsed": 890,
     "status": "ok",
     "timestamp": 1512134790840,
     "user": {
      "displayName": "Aram Tovmasyan",
      "photoUrl": "//lh6.googleusercontent.com/-9fVmqRTL8sg/AAAAAAAAAAI/AAAAAAAAAc8/vks2HBurbII/s50-c-k-no/photo.jpg",
      "userId": "111511278704442066586"
     },
     "user_tz": -240
    },
    "id": "BAeWoZQN1wfg",
    "outputId": "20c3a6c7-fe7e-4a54-deac-243f3c03ad0c"
   },
   "outputs": [
    {
     "name": "stdout",
     "output_type": "stream",
     "text": [
      "Passed\n"
     ]
    }
   ],
   "source": [
    "\n",
    "if __name__ == '__main__':\n",
    "    # Fist test the signature of your gradient descent function.\n",
    "    #beta_est = gradient_descent(np.array([[1, 2], [1, 3], [1, 4], [1, 5]]),\n",
    "    #                            np.array([2, 3, 4, 5.01]),\n",
    "    #                            l=0,\n",
    "    #                            epsilon=1e-4,\n",
    "    #                            step_size=1e-3,\n",
    "    #                            max_steps=2)\n",
    "    beta_est = gradient_descent(np.array([[1, 2], [1, 3], [1, 4], [1, 5]]),\n",
    "                                np.array([2, 3, 4, 5.01]),\n",
    "                                l=.1,\n",
    "                                epsilon=1e-8,\n",
    "                                step_size=1e-3,\n",
    "                                max_steps=10000)\n",
    "    \n",
    "    assert beta_est.shape == (2,)\n",
    "    # Call comparison function with the given 5-dimensional beta (b0, ..., b5)\n",
    "    beta5d = [1.5, 2.2, 3.5, 4.4, 1.1, 3.9]\n",
    "    d_dimensional_comparison(5, beta5d, 200, 2, l=1)\n"
   ]
  },
  {
   "cell_type": "code",
   "execution_count": 0,
   "metadata": {
    "colab": {
     "autoexec": {
      "startup": false,
      "wait_interval": 0
     }
    },
    "colab_type": "code",
    "collapsed": true,
    "id": "2FmxLkFM1wpT"
   },
   "outputs": [],
   "source": [
    "from google.colab import auth\n",
    "auth.authenticate_user()\n",
    "\n",
    "file_id = '11IxUEDdn3UgTl-5uxi-siJ5GS3b1U2h4'#created.get('id')\n",
    "\n",
    "import io\n",
    "from googleapiclient.http import MediaIoBaseDownload\n",
    "\n",
    "from googleapiclient.discovery import build\n",
    "drive_service = build('drive', 'v3') #4/-ztrYCQVSdiJRl0lnh12uWvCg02WHyNOUnJ90ex7BNE verification code\n",
    "\n",
    "\n"
   ]
  },
  {
   "cell_type": "code",
   "execution_count": 10,
   "metadata": {
    "colab": {
     "autoexec": {
      "startup": false,
      "wait_interval": 0
     },
     "base_uri": "https://localhost:8080/",
     "height": 34,
     "output_extras": [
      {
       "item_id": 1
      }
     ]
    },
    "colab_type": "code",
    "collapsed": false,
    "executionInfo": {
     "elapsed": 1350,
     "status": "ok",
     "timestamp": 1512134820953,
     "user": {
      "displayName": "Aram Tovmasyan",
      "photoUrl": "//lh6.googleusercontent.com/-9fVmqRTL8sg/AAAAAAAAAAI/AAAAAAAAAc8/vks2HBurbII/s50-c-k-no/photo.jpg",
      "userId": "111511278704442066586"
     },
     "user_tz": -240
    },
    "id": "OBQVX6GIoSs0",
    "outputId": "43dec928-3513-4846-ed0b-fe42cceb217b"
   },
   "outputs": [
    {
     "data": {
      "text/plain": [
       "0L"
      ]
     },
     "execution_count": 10,
     "metadata": {
      "tags": []
     },
     "output_type": "execute_result"
    }
   ],
   "source": [
    "request = drive_service.files().get_media(fileId=file_id)\n",
    "downloaded = io.BytesIO()\n",
    "downloader = MediaIoBaseDownload(downloaded, request)\n",
    "done = False\n",
    "while done is False:\n",
    "  # _ is a placeholder for a progress object that we ignore.\n",
    "  # (Our file is small, so we skip reporting progress.)\n",
    "  _, done = downloader.next_chunk()\n",
    "  \n",
    "downloaded.seek(0)"
   ]
  },
  {
   "cell_type": "code",
   "execution_count": 0,
   "metadata": {
    "colab": {
     "autoexec": {
      "startup": false,
      "wait_interval": 0
     }
    },
    "colab_type": "code",
    "collapsed": true,
    "id": "mUZPvyd14r9t"
   },
   "outputs": [],
   "source": [
    "df = pd.read_csv(downloaded)"
   ]
  },
  {
   "cell_type": "code",
   "execution_count": 12,
   "metadata": {
    "colab": {
     "autoexec": {
      "startup": false,
      "wait_interval": 0
     },
     "base_uri": "https://localhost:8080/",
     "height": 336,
     "output_extras": [
      {
       "item_id": 1
      }
     ]
    },
    "colab_type": "code",
    "collapsed": false,
    "executionInfo": {
     "elapsed": 801,
     "status": "ok",
     "timestamp": 1512134825115,
     "user": {
      "displayName": "Aram Tovmasyan",
      "photoUrl": "//lh6.googleusercontent.com/-9fVmqRTL8sg/AAAAAAAAAAI/AAAAAAAAAc8/vks2HBurbII/s50-c-k-no/photo.jpg",
      "userId": "111511278704442066586"
     },
     "user_tz": -240
    },
    "id": "DTBdhhnX1wzj",
    "outputId": "e6c5a99f-ec75-47e2-a930-3095401f22d0"
   },
   "outputs": [
    {
     "name": "stdout",
     "output_type": "stream",
     "text": [
      "<class 'pandas.core.frame.DataFrame'>\n",
      "RangeIndex: 6234 entries, 0 to 6233\n",
      "Data columns (total 14 columns):\n",
      "Unnamed: 0        6234 non-null int64\n",
      "price             6234 non-null float64\n",
      "condition         6234 non-null object\n",
      "district          6234 non-null object\n",
      "max_floor         6234 non-null int64\n",
      "street            6234 non-null object\n",
      "num_rooms         6234 non-null int64\n",
      "region            6234 non-null object\n",
      "area              6234 non-null float64\n",
      "url               6234 non-null object\n",
      "num_bathrooms     6234 non-null int64\n",
      "building_type     6234 non-null object\n",
      "floor             6234 non-null int64\n",
      "ceiling_height    6234 non-null float64\n",
      "dtypes: float64(3), int64(5), object(6)\n",
      "memory usage: 681.9+ KB\n"
     ]
    }
   ],
   "source": [
    "df.info()"
   ]
  },
  {
   "cell_type": "code",
   "execution_count": 13,
   "metadata": {
    "colab": {
     "autoexec": {
      "startup": false,
      "wait_interval": 0
     },
     "base_uri": "https://localhost:8080/",
     "height": 313,
     "output_extras": [
      {
       "item_id": 1
      }
     ]
    },
    "colab_type": "code",
    "collapsed": false,
    "executionInfo": {
     "elapsed": 900,
     "status": "ok",
     "timestamp": 1512134827629,
     "user": {
      "displayName": "Aram Tovmasyan",
      "photoUrl": "//lh6.googleusercontent.com/-9fVmqRTL8sg/AAAAAAAAAAI/AAAAAAAAAc8/vks2HBurbII/s50-c-k-no/photo.jpg",
      "userId": "111511278704442066586"
     },
     "user_tz": -240
    },
    "id": "-BV8n-1h1e-H",
    "outputId": "87908aac-f435-43b1-bcd4-2ff417ef968b"
   },
   "outputs": [
    {
     "data": {
      "text/html": [
       "<div>\n",
       "<style>\n",
       "    .dataframe thead tr:only-child th {\n",
       "        text-align: right;\n",
       "    }\n",
       "\n",
       "    .dataframe thead th {\n",
       "        text-align: left;\n",
       "    }\n",
       "\n",
       "    .dataframe tbody tr th {\n",
       "        vertical-align: top;\n",
       "    }\n",
       "</style>\n",
       "<table border=\"1\" class=\"dataframe\">\n",
       "  <thead>\n",
       "    <tr style=\"text-align: right;\">\n",
       "      <th></th>\n",
       "      <th>Unnamed: 0</th>\n",
       "      <th>price</th>\n",
       "      <th>condition</th>\n",
       "      <th>district</th>\n",
       "      <th>max_floor</th>\n",
       "      <th>street</th>\n",
       "      <th>num_rooms</th>\n",
       "      <th>region</th>\n",
       "      <th>area</th>\n",
       "      <th>url</th>\n",
       "      <th>num_bathrooms</th>\n",
       "      <th>building_type</th>\n",
       "      <th>floor</th>\n",
       "      <th>ceiling_height</th>\n",
       "    </tr>\n",
       "  </thead>\n",
       "  <tbody>\n",
       "    <tr>\n",
       "      <th>0</th>\n",
       "      <td>0</td>\n",
       "      <td>65000.0</td>\n",
       "      <td>good</td>\n",
       "      <td>Center</td>\n",
       "      <td>9</td>\n",
       "      <td>Vardanants St</td>\n",
       "      <td>3</td>\n",
       "      <td>Yerevan</td>\n",
       "      <td>80.0</td>\n",
       "      <td>http://www.myrealty.am/en/item/24032/3-senyaka...</td>\n",
       "      <td>1</td>\n",
       "      <td>panel</td>\n",
       "      <td>4</td>\n",
       "      <td>2.8</td>\n",
       "    </tr>\n",
       "    <tr>\n",
       "      <th>1</th>\n",
       "      <td>1</td>\n",
       "      <td>140000.0</td>\n",
       "      <td>newly repaired</td>\n",
       "      <td>Arabkir</td>\n",
       "      <td>10</td>\n",
       "      <td>Hr.Kochar St</td>\n",
       "      <td>4</td>\n",
       "      <td>Yerevan</td>\n",
       "      <td>115.0</td>\n",
       "      <td>http://www.myrealty.am/en/item/17599/4-senyaka...</td>\n",
       "      <td>1</td>\n",
       "      <td>monolit</td>\n",
       "      <td>2</td>\n",
       "      <td>3.0</td>\n",
       "    </tr>\n",
       "    <tr>\n",
       "      <th>2</th>\n",
       "      <td>2</td>\n",
       "      <td>97000.0</td>\n",
       "      <td>newly repaired</td>\n",
       "      <td>Center</td>\n",
       "      <td>10</td>\n",
       "      <td>Teryan St</td>\n",
       "      <td>2</td>\n",
       "      <td>Yerevan</td>\n",
       "      <td>72.0</td>\n",
       "      <td>http://www.myrealty.am/en/item/29472/2-senyaka...</td>\n",
       "      <td>1</td>\n",
       "      <td>panel</td>\n",
       "      <td>3</td>\n",
       "      <td>2.8</td>\n",
       "    </tr>\n",
       "    <tr>\n",
       "      <th>3</th>\n",
       "      <td>3</td>\n",
       "      <td>47000.0</td>\n",
       "      <td>good</td>\n",
       "      <td>Center</td>\n",
       "      <td>9</td>\n",
       "      <td>D. Demirchyan St</td>\n",
       "      <td>1</td>\n",
       "      <td>Yerevan</td>\n",
       "      <td>43.0</td>\n",
       "      <td>http://www.myrealty.am/en/item/37186/1-senyaka...</td>\n",
       "      <td>1</td>\n",
       "      <td>panel</td>\n",
       "      <td>9</td>\n",
       "      <td>2.8</td>\n",
       "    </tr>\n",
       "    <tr>\n",
       "      <th>4</th>\n",
       "      <td>4</td>\n",
       "      <td>51000.0</td>\n",
       "      <td>newly repaired</td>\n",
       "      <td>Center</td>\n",
       "      <td>14</td>\n",
       "      <td>Sayat Nova Ave</td>\n",
       "      <td>1</td>\n",
       "      <td>Yerevan</td>\n",
       "      <td>33.0</td>\n",
       "      <td>http://www.myrealty.am/en/item/37184/1-senyaka...</td>\n",
       "      <td>1</td>\n",
       "      <td>other</td>\n",
       "      <td>4</td>\n",
       "      <td>2.8</td>\n",
       "    </tr>\n",
       "  </tbody>\n",
       "</table>\n",
       "</div>"
      ],
      "text/plain": [
       "   Unnamed: 0     price       condition district  max_floor            street  \\\n",
       "0           0   65000.0            good   Center          9     Vardanants St   \n",
       "1           1  140000.0  newly repaired  Arabkir         10      Hr.Kochar St   \n",
       "2           2   97000.0  newly repaired   Center         10         Teryan St   \n",
       "3           3   47000.0            good   Center          9  D. Demirchyan St   \n",
       "4           4   51000.0  newly repaired   Center         14    Sayat Nova Ave   \n",
       "\n",
       "   num_rooms   region   area  \\\n",
       "0          3  Yerevan   80.0   \n",
       "1          4  Yerevan  115.0   \n",
       "2          2  Yerevan   72.0   \n",
       "3          1  Yerevan   43.0   \n",
       "4          1  Yerevan   33.0   \n",
       "\n",
       "                                                 url  num_bathrooms  \\\n",
       "0  http://www.myrealty.am/en/item/24032/3-senyaka...              1   \n",
       "1  http://www.myrealty.am/en/item/17599/4-senyaka...              1   \n",
       "2  http://www.myrealty.am/en/item/29472/2-senyaka...              1   \n",
       "3  http://www.myrealty.am/en/item/37186/1-senyaka...              1   \n",
       "4  http://www.myrealty.am/en/item/37184/1-senyaka...              1   \n",
       "\n",
       "  building_type  floor  ceiling_height  \n",
       "0         panel      4             2.8  \n",
       "1       monolit      2             3.0  \n",
       "2         panel      3             2.8  \n",
       "3         panel      9             2.8  \n",
       "4         other      4             2.8  "
      ]
     },
     "execution_count": 13,
     "metadata": {
      "tags": []
     },
     "output_type": "execute_result"
    }
   ],
   "source": [
    "df.head()"
   ]
  },
  {
   "cell_type": "code",
   "execution_count": 0,
   "metadata": {
    "colab": {
     "autoexec": {
      "startup": false,
      "wait_interval": 0
     }
    },
    "colab_type": "code",
    "collapsed": true,
    "id": "epi-nGso1e-M"
   },
   "outputs": [],
   "source": [
    "#i = np.random.randint(0,N,np.int(N*.8))\n"
   ]
  },
  {
   "cell_type": "code",
   "execution_count": 0,
   "metadata": {
    "colab": {
     "autoexec": {
      "startup": false,
      "wait_interval": 0
     }
    },
    "colab_type": "code",
    "collapsed": true,
    "id": "repTaPJV9aIW"
   },
   "outputs": [],
   "source": [
    "# 1. categorical poxel tvayini 2. ambohji hamar gradient descent ashxatacnel u stanal Beta vori depqum lossy <30000 #df.iloc[25088]\n",
    "\n",
    "dfX = pd.get_dummies(df.drop('url',axis=1).drop('street',axis=1).drop('Unnamed: 0',axis=1).drop('price',axis=1).drop('region',axis=1)).copy()\n",
    "dfY = df['price']\n",
    "\n"
   ]
  },
  {
   "cell_type": "code",
   "execution_count": 15,
   "metadata": {
    "colab": {
     "autoexec": {
      "startup": false,
      "wait_interval": 0
     },
     "base_uri": "https://localhost:8080/",
     "height": 261,
     "output_extras": [
      {
       "item_id": 1
      }
     ]
    },
    "colab_type": "code",
    "collapsed": false,
    "executionInfo": {
     "elapsed": 725,
     "status": "ok",
     "timestamp": 1512135032534,
     "user": {
      "displayName": "Aram Tovmasyan",
      "photoUrl": "//lh6.googleusercontent.com/-9fVmqRTL8sg/AAAAAAAAAAI/AAAAAAAAAc8/vks2HBurbII/s50-c-k-no/photo.jpg",
      "userId": "111511278704442066586"
     },
     "user_tz": -240
    },
    "id": "cjf0bxpXmpSh",
    "outputId": "902c1685-d7ec-494d-a905-f44cfbbe5004"
   },
   "outputs": [
    {
     "data": {
      "text/html": [
       "<div>\n",
       "<style>\n",
       "    .dataframe thead tr:only-child th {\n",
       "        text-align: right;\n",
       "    }\n",
       "\n",
       "    .dataframe thead th {\n",
       "        text-align: left;\n",
       "    }\n",
       "\n",
       "    .dataframe tbody tr th {\n",
       "        vertical-align: top;\n",
       "    }\n",
       "</style>\n",
       "<table border=\"1\" class=\"dataframe\">\n",
       "  <thead>\n",
       "    <tr style=\"text-align: right;\">\n",
       "      <th></th>\n",
       "      <th>max_floor</th>\n",
       "      <th>num_rooms</th>\n",
       "      <th>area</th>\n",
       "      <th>num_bathrooms</th>\n",
       "      <th>floor</th>\n",
       "      <th>ceiling_height</th>\n",
       "      <th>condition_good</th>\n",
       "      <th>condition_newly repaired</th>\n",
       "      <th>condition_zero condition</th>\n",
       "      <th>district_Achapnyak</th>\n",
       "      <th>...</th>\n",
       "      <th>district_Nor Norq</th>\n",
       "      <th>district_Norq Marash</th>\n",
       "      <th>district_Nubarashen</th>\n",
       "      <th>district_Qanaqer-Zeytun</th>\n",
       "      <th>district_Shengavit</th>\n",
       "      <th>district_Vahagni district</th>\n",
       "      <th>building_type_monolit</th>\n",
       "      <th>building_type_other</th>\n",
       "      <th>building_type_panel</th>\n",
       "      <th>building_type_stone</th>\n",
       "    </tr>\n",
       "  </thead>\n",
       "  <tbody>\n",
       "    <tr>\n",
       "      <th>0</th>\n",
       "      <td>9</td>\n",
       "      <td>3</td>\n",
       "      <td>80.0</td>\n",
       "      <td>1</td>\n",
       "      <td>4</td>\n",
       "      <td>2.8</td>\n",
       "      <td>1</td>\n",
       "      <td>0</td>\n",
       "      <td>0</td>\n",
       "      <td>0</td>\n",
       "      <td>...</td>\n",
       "      <td>0</td>\n",
       "      <td>0</td>\n",
       "      <td>0</td>\n",
       "      <td>0</td>\n",
       "      <td>0</td>\n",
       "      <td>0</td>\n",
       "      <td>0</td>\n",
       "      <td>0</td>\n",
       "      <td>1</td>\n",
       "      <td>0</td>\n",
       "    </tr>\n",
       "    <tr>\n",
       "      <th>1</th>\n",
       "      <td>10</td>\n",
       "      <td>4</td>\n",
       "      <td>115.0</td>\n",
       "      <td>1</td>\n",
       "      <td>2</td>\n",
       "      <td>3.0</td>\n",
       "      <td>0</td>\n",
       "      <td>1</td>\n",
       "      <td>0</td>\n",
       "      <td>0</td>\n",
       "      <td>...</td>\n",
       "      <td>0</td>\n",
       "      <td>0</td>\n",
       "      <td>0</td>\n",
       "      <td>0</td>\n",
       "      <td>0</td>\n",
       "      <td>0</td>\n",
       "      <td>1</td>\n",
       "      <td>0</td>\n",
       "      <td>0</td>\n",
       "      <td>0</td>\n",
       "    </tr>\n",
       "    <tr>\n",
       "      <th>2</th>\n",
       "      <td>10</td>\n",
       "      <td>2</td>\n",
       "      <td>72.0</td>\n",
       "      <td>1</td>\n",
       "      <td>3</td>\n",
       "      <td>2.8</td>\n",
       "      <td>0</td>\n",
       "      <td>1</td>\n",
       "      <td>0</td>\n",
       "      <td>0</td>\n",
       "      <td>...</td>\n",
       "      <td>0</td>\n",
       "      <td>0</td>\n",
       "      <td>0</td>\n",
       "      <td>0</td>\n",
       "      <td>0</td>\n",
       "      <td>0</td>\n",
       "      <td>0</td>\n",
       "      <td>0</td>\n",
       "      <td>1</td>\n",
       "      <td>0</td>\n",
       "    </tr>\n",
       "    <tr>\n",
       "      <th>3</th>\n",
       "      <td>9</td>\n",
       "      <td>1</td>\n",
       "      <td>43.0</td>\n",
       "      <td>1</td>\n",
       "      <td>9</td>\n",
       "      <td>2.8</td>\n",
       "      <td>1</td>\n",
       "      <td>0</td>\n",
       "      <td>0</td>\n",
       "      <td>0</td>\n",
       "      <td>...</td>\n",
       "      <td>0</td>\n",
       "      <td>0</td>\n",
       "      <td>0</td>\n",
       "      <td>0</td>\n",
       "      <td>0</td>\n",
       "      <td>0</td>\n",
       "      <td>0</td>\n",
       "      <td>0</td>\n",
       "      <td>1</td>\n",
       "      <td>0</td>\n",
       "    </tr>\n",
       "    <tr>\n",
       "      <th>4</th>\n",
       "      <td>14</td>\n",
       "      <td>1</td>\n",
       "      <td>33.0</td>\n",
       "      <td>1</td>\n",
       "      <td>4</td>\n",
       "      <td>2.8</td>\n",
       "      <td>0</td>\n",
       "      <td>1</td>\n",
       "      <td>0</td>\n",
       "      <td>0</td>\n",
       "      <td>...</td>\n",
       "      <td>0</td>\n",
       "      <td>0</td>\n",
       "      <td>0</td>\n",
       "      <td>0</td>\n",
       "      <td>0</td>\n",
       "      <td>0</td>\n",
       "      <td>0</td>\n",
       "      <td>1</td>\n",
       "      <td>0</td>\n",
       "      <td>0</td>\n",
       "    </tr>\n",
       "  </tbody>\n",
       "</table>\n",
       "<p>5 rows × 26 columns</p>\n",
       "</div>"
      ],
      "text/plain": [
       "   max_floor  num_rooms   area  num_bathrooms  floor  ceiling_height  \\\n",
       "0          9          3   80.0              1      4             2.8   \n",
       "1         10          4  115.0              1      2             3.0   \n",
       "2         10          2   72.0              1      3             2.8   \n",
       "3          9          1   43.0              1      9             2.8   \n",
       "4         14          1   33.0              1      4             2.8   \n",
       "\n",
       "   condition_good  condition_newly repaired  condition_zero condition  \\\n",
       "0               1                         0                         0   \n",
       "1               0                         1                         0   \n",
       "2               0                         1                         0   \n",
       "3               1                         0                         0   \n",
       "4               0                         1                         0   \n",
       "\n",
       "   district_Achapnyak         ...           district_Nor Norq  \\\n",
       "0                   0         ...                           0   \n",
       "1                   0         ...                           0   \n",
       "2                   0         ...                           0   \n",
       "3                   0         ...                           0   \n",
       "4                   0         ...                           0   \n",
       "\n",
       "   district_Norq Marash  district_Nubarashen  district_Qanaqer-Zeytun  \\\n",
       "0                     0                    0                        0   \n",
       "1                     0                    0                        0   \n",
       "2                     0                    0                        0   \n",
       "3                     0                    0                        0   \n",
       "4                     0                    0                        0   \n",
       "\n",
       "   district_Shengavit  district_Vahagni district  building_type_monolit  \\\n",
       "0                   0                          0                      0   \n",
       "1                   0                          0                      1   \n",
       "2                   0                          0                      0   \n",
       "3                   0                          0                      0   \n",
       "4                   0                          0                      0   \n",
       "\n",
       "   building_type_other  building_type_panel  building_type_stone  \n",
       "0                    0                    1                    0  \n",
       "1                    0                    0                    0  \n",
       "2                    0                    1                    0  \n",
       "3                    0                    1                    0  \n",
       "4                    1                    0                    0  \n",
       "\n",
       "[5 rows x 26 columns]"
      ]
     },
     "execution_count": 15,
     "metadata": {
      "tags": []
     },
     "output_type": "execute_result"
    }
   ],
   "source": [
    "dfX.head()"
   ]
  },
  {
   "cell_type": "code",
   "execution_count": 16,
   "metadata": {
    "colab": {
     "autoexec": {
      "startup": false,
      "wait_interval": 0
     },
     "base_uri": "https://localhost:8080/",
     "height": 118,
     "output_extras": [
      {
       "item_id": 1
      }
     ]
    },
    "colab_type": "code",
    "collapsed": false,
    "executionInfo": {
     "elapsed": 1358,
     "status": "ok",
     "timestamp": 1512135035915,
     "user": {
      "displayName": "Aram Tovmasyan",
      "photoUrl": "//lh6.googleusercontent.com/-9fVmqRTL8sg/AAAAAAAAAAI/AAAAAAAAAc8/vks2HBurbII/s50-c-k-no/photo.jpg",
      "userId": "111511278704442066586"
     },
     "user_tz": -240
    },
    "id": "TmfNU-11k6-H",
    "outputId": "8fb32405-b07f-4b20-b9a9-c619e02045f6"
   },
   "outputs": [
    {
     "data": {
      "text/plain": [
       "0     65000.0\n",
       "1    140000.0\n",
       "2     97000.0\n",
       "3     47000.0\n",
       "4     51000.0\n",
       "Name: price, dtype: float64"
      ]
     },
     "execution_count": 16,
     "metadata": {
      "tags": []
     },
     "output_type": "execute_result"
    }
   ],
   "source": [
    "dfY.head()"
   ]
  },
  {
   "cell_type": "code",
   "execution_count": 0,
   "metadata": {
    "colab": {
     "autoexec": {
      "startup": false,
      "wait_interval": 0
     }
    },
    "colab_type": "code",
    "collapsed": true,
    "id": "0iTt2lTUgg00"
   },
   "outputs": [],
   "source": [
    "ones= pd.DataFrame(data = np.ones(dfX.index.size))\n",
    "#ones.info\n"
   ]
  },
  {
   "cell_type": "code",
   "execution_count": 18,
   "metadata": {
    "colab": {
     "autoexec": {
      "startup": false,
      "wait_interval": 0
     },
     "base_uri": "https://localhost:8080/",
     "height": 261,
     "output_extras": [
      {
       "item_id": 1
      }
     ]
    },
    "colab_type": "code",
    "collapsed": false,
    "executionInfo": {
     "elapsed": 845,
     "status": "ok",
     "timestamp": 1512135040684,
     "user": {
      "displayName": "Aram Tovmasyan",
      "photoUrl": "//lh6.googleusercontent.com/-9fVmqRTL8sg/AAAAAAAAAAI/AAAAAAAAAc8/vks2HBurbII/s50-c-k-no/photo.jpg",
      "userId": "111511278704442066586"
     },
     "user_tz": -240
    },
    "id": "qqy9Co6McZYf",
    "outputId": "716c7991-c661-4f74-f2d8-1a8322a62519"
   },
   "outputs": [
    {
     "data": {
      "text/html": [
       "<div>\n",
       "<style>\n",
       "    .dataframe thead tr:only-child th {\n",
       "        text-align: right;\n",
       "    }\n",
       "\n",
       "    .dataframe thead th {\n",
       "        text-align: left;\n",
       "    }\n",
       "\n",
       "    .dataframe tbody tr th {\n",
       "        vertical-align: top;\n",
       "    }\n",
       "</style>\n",
       "<table border=\"1\" class=\"dataframe\">\n",
       "  <thead>\n",
       "    <tr style=\"text-align: right;\">\n",
       "      <th></th>\n",
       "      <th>0</th>\n",
       "      <th>max_floor</th>\n",
       "      <th>num_rooms</th>\n",
       "      <th>area</th>\n",
       "      <th>num_bathrooms</th>\n",
       "      <th>floor</th>\n",
       "      <th>ceiling_height</th>\n",
       "      <th>condition_good</th>\n",
       "      <th>condition_newly repaired</th>\n",
       "      <th>condition_zero condition</th>\n",
       "      <th>...</th>\n",
       "      <th>district_Nor Norq</th>\n",
       "      <th>district_Norq Marash</th>\n",
       "      <th>district_Nubarashen</th>\n",
       "      <th>district_Qanaqer-Zeytun</th>\n",
       "      <th>district_Shengavit</th>\n",
       "      <th>district_Vahagni district</th>\n",
       "      <th>building_type_monolit</th>\n",
       "      <th>building_type_other</th>\n",
       "      <th>building_type_panel</th>\n",
       "      <th>building_type_stone</th>\n",
       "    </tr>\n",
       "  </thead>\n",
       "  <tbody>\n",
       "    <tr>\n",
       "      <th>0</th>\n",
       "      <td>1.0</td>\n",
       "      <td>9</td>\n",
       "      <td>3</td>\n",
       "      <td>80.0</td>\n",
       "      <td>1</td>\n",
       "      <td>4</td>\n",
       "      <td>2.8</td>\n",
       "      <td>1</td>\n",
       "      <td>0</td>\n",
       "      <td>0</td>\n",
       "      <td>...</td>\n",
       "      <td>0</td>\n",
       "      <td>0</td>\n",
       "      <td>0</td>\n",
       "      <td>0</td>\n",
       "      <td>0</td>\n",
       "      <td>0</td>\n",
       "      <td>0</td>\n",
       "      <td>0</td>\n",
       "      <td>1</td>\n",
       "      <td>0</td>\n",
       "    </tr>\n",
       "    <tr>\n",
       "      <th>1</th>\n",
       "      <td>1.0</td>\n",
       "      <td>10</td>\n",
       "      <td>4</td>\n",
       "      <td>115.0</td>\n",
       "      <td>1</td>\n",
       "      <td>2</td>\n",
       "      <td>3.0</td>\n",
       "      <td>0</td>\n",
       "      <td>1</td>\n",
       "      <td>0</td>\n",
       "      <td>...</td>\n",
       "      <td>0</td>\n",
       "      <td>0</td>\n",
       "      <td>0</td>\n",
       "      <td>0</td>\n",
       "      <td>0</td>\n",
       "      <td>0</td>\n",
       "      <td>1</td>\n",
       "      <td>0</td>\n",
       "      <td>0</td>\n",
       "      <td>0</td>\n",
       "    </tr>\n",
       "    <tr>\n",
       "      <th>2</th>\n",
       "      <td>1.0</td>\n",
       "      <td>10</td>\n",
       "      <td>2</td>\n",
       "      <td>72.0</td>\n",
       "      <td>1</td>\n",
       "      <td>3</td>\n",
       "      <td>2.8</td>\n",
       "      <td>0</td>\n",
       "      <td>1</td>\n",
       "      <td>0</td>\n",
       "      <td>...</td>\n",
       "      <td>0</td>\n",
       "      <td>0</td>\n",
       "      <td>0</td>\n",
       "      <td>0</td>\n",
       "      <td>0</td>\n",
       "      <td>0</td>\n",
       "      <td>0</td>\n",
       "      <td>0</td>\n",
       "      <td>1</td>\n",
       "      <td>0</td>\n",
       "    </tr>\n",
       "    <tr>\n",
       "      <th>3</th>\n",
       "      <td>1.0</td>\n",
       "      <td>9</td>\n",
       "      <td>1</td>\n",
       "      <td>43.0</td>\n",
       "      <td>1</td>\n",
       "      <td>9</td>\n",
       "      <td>2.8</td>\n",
       "      <td>1</td>\n",
       "      <td>0</td>\n",
       "      <td>0</td>\n",
       "      <td>...</td>\n",
       "      <td>0</td>\n",
       "      <td>0</td>\n",
       "      <td>0</td>\n",
       "      <td>0</td>\n",
       "      <td>0</td>\n",
       "      <td>0</td>\n",
       "      <td>0</td>\n",
       "      <td>0</td>\n",
       "      <td>1</td>\n",
       "      <td>0</td>\n",
       "    </tr>\n",
       "    <tr>\n",
       "      <th>4</th>\n",
       "      <td>1.0</td>\n",
       "      <td>14</td>\n",
       "      <td>1</td>\n",
       "      <td>33.0</td>\n",
       "      <td>1</td>\n",
       "      <td>4</td>\n",
       "      <td>2.8</td>\n",
       "      <td>0</td>\n",
       "      <td>1</td>\n",
       "      <td>0</td>\n",
       "      <td>...</td>\n",
       "      <td>0</td>\n",
       "      <td>0</td>\n",
       "      <td>0</td>\n",
       "      <td>0</td>\n",
       "      <td>0</td>\n",
       "      <td>0</td>\n",
       "      <td>0</td>\n",
       "      <td>1</td>\n",
       "      <td>0</td>\n",
       "      <td>0</td>\n",
       "    </tr>\n",
       "  </tbody>\n",
       "</table>\n",
       "<p>5 rows × 27 columns</p>\n",
       "</div>"
      ],
      "text/plain": [
       "     0  max_floor  num_rooms   area  num_bathrooms  floor  ceiling_height  \\\n",
       "0  1.0          9          3   80.0              1      4             2.8   \n",
       "1  1.0         10          4  115.0              1      2             3.0   \n",
       "2  1.0         10          2   72.0              1      3             2.8   \n",
       "3  1.0          9          1   43.0              1      9             2.8   \n",
       "4  1.0         14          1   33.0              1      4             2.8   \n",
       "\n",
       "   condition_good  condition_newly repaired  condition_zero condition  \\\n",
       "0               1                         0                         0   \n",
       "1               0                         1                         0   \n",
       "2               0                         1                         0   \n",
       "3               1                         0                         0   \n",
       "4               0                         1                         0   \n",
       "\n",
       "          ...           district_Nor Norq  district_Norq Marash  \\\n",
       "0         ...                           0                     0   \n",
       "1         ...                           0                     0   \n",
       "2         ...                           0                     0   \n",
       "3         ...                           0                     0   \n",
       "4         ...                           0                     0   \n",
       "\n",
       "   district_Nubarashen  district_Qanaqer-Zeytun  district_Shengavit  \\\n",
       "0                    0                        0                   0   \n",
       "1                    0                        0                   0   \n",
       "2                    0                        0                   0   \n",
       "3                    0                        0                   0   \n",
       "4                    0                        0                   0   \n",
       "\n",
       "   district_Vahagni district  building_type_monolit  building_type_other  \\\n",
       "0                          0                      0                    0   \n",
       "1                          0                      1                    0   \n",
       "2                          0                      0                    0   \n",
       "3                          0                      0                    0   \n",
       "4                          0                      0                    1   \n",
       "\n",
       "   building_type_panel  building_type_stone  \n",
       "0                    1                    0  \n",
       "1                    0                    0  \n",
       "2                    1                    0  \n",
       "3                    1                    0  \n",
       "4                    0                    0  \n",
       "\n",
       "[5 rows x 27 columns]"
      ]
     },
     "execution_count": 18,
     "metadata": {
      "tags": []
     },
     "output_type": "execute_result"
    }
   ],
   "source": [
    "dfX = pd.concat([ones,dfX],  axis = 1)\n",
    "dfX.head()"
   ]
  },
  {
   "cell_type": "code",
   "execution_count": 32,
   "metadata": {
    "colab": {
     "autoexec": {
      "startup": false,
      "wait_interval": 0
     },
     "base_uri": "https://localhost:8080/",
     "height": 51,
     "output_extras": [
      {
       "item_id": 1
      }
     ]
    },
    "colab_type": "code",
    "collapsed": false,
    "executionInfo": {
     "elapsed": 957,
     "status": "ok",
     "timestamp": 1512137147415,
     "user": {
      "displayName": "Aram Tovmasyan",
      "photoUrl": "//lh6.googleusercontent.com/-9fVmqRTL8sg/AAAAAAAAAAI/AAAAAAAAAc8/vks2HBurbII/s50-c-k-no/photo.jpg",
      "userId": "111511278704442066586"
     },
     "user_tz": -240
    },
    "id": "KXfqR7aXcddj",
    "outputId": "a1a5818d-1bef-42db-e21e-82dd015ba8b1"
   },
   "outputs": [
    {
     "name": "stdout",
     "output_type": "stream",
     "text": [
      "('gradient descent RMSE:', 29804.00837219576)\n",
      "('gradient descent MSE:', 888278915.04991496)\n"
     ]
    }
   ],
   "source": [
    "beta_hat_grad = fit_ridge_regression(dfX, dfY, l=189000)#gradient_descent(dfX, dfY, l=0, epsilon=1e-1, step_size=25e-5, max_steps=20000)\n",
    "print('gradient descent RMSE:',cost_function(dfX, dfY, beta_hat_grad))\n",
    "print('gradient descent MSE:', loss(dfX, dfY, beta_hat_grad))"
   ]
  },
  {
   "cell_type": "code",
   "execution_count": 30,
   "metadata": {
    "colab": {
     "autoexec": {
      "startup": false,
      "wait_interval": 0
     },
     "base_uri": "https://localhost:8080/",
     "height": 282,
     "output_extras": [
      {
       "item_id": 1
      },
      {
       "item_id": 2
      }
     ]
    },
    "colab_type": "code",
    "collapsed": false,
    "executionInfo": {
     "elapsed": 1309,
     "status": "ok",
     "timestamp": 1512135194253,
     "user": {
      "displayName": "Aram Tovmasyan",
      "photoUrl": "//lh6.googleusercontent.com/-9fVmqRTL8sg/AAAAAAAAAAI/AAAAAAAAAc8/vks2HBurbII/s50-c-k-no/photo.jpg",
      "userId": "111511278704442066586"
     },
     "user_tz": -240
    },
    "id": "pcIFYOr7hRY0",
    "outputId": "2d77df05-744e-4f7d-bebc-0d449de92ac4"
   },
   "outputs": [
    {
     "data": {
      "text/plain": [
       "[<matplotlib.lines.Line2D at 0x7f61b8089cd0>]"
      ]
     },
     "execution_count": 30,
     "metadata": {
      "tags": []
     },
     "output_type": "execute_result"
    },
    {
     "data": {
      "image/png": "[encoded data removed]",
      "text/plain": [
       "<matplotlib.figure.Figure at 0x7f61b1408c90>"
      ]
     },
     "metadata": {
      "tags": []
     },
     "output_type": "display_data"
    }
   ],
   "source": [
    "import matplotlib.pyplot as plt\n",
    "%matplotlib inline\n",
    "plt.plot(dfX['area'], dfY, 'bo')\n",
    "plt.plot(dfX['area'], (np.dot(dfX,beta_hat_grad)), 'r--')"
   ]
  },
  {
   "cell_type": "code",
   "execution_count": 0,
   "metadata": {
    "colab": {
     "autoexec": {
      "startup": false,
      "wait_interval": 0
     }
    },
    "colab_type": "code",
    "collapsed": true,
    "id": "45flhogod9PU"
   },
   "outputs": [],
   "source": []
  }
 ],
 "metadata": {
  "colab": {
   "collapsed_sections": [],
   "default_view": {},
   "name": "Aram_Tovmasyan_All_Features_Fit_Ridge_homework_istc.ipynb",
   "provenance": [
    {
     "file_id": "1xSgLvbS6Gfnt1Ufx5hJrDG_Z9otk5MwR",
     "timestamp": 1512134166527
    },
    {
     "file_id": "18MhlwFvtnlGvnniDcT5sMLuF1ASE1yXc",
     "timestamp": 1512133509411
    }
   ],
   "version": "0.3.2",
   "views": {}
  },
  "kernelspec": {
   "display_name": "Python 3",
   "language": "python",
   "name": "python3"
  },
  "language_info": {
   "codemirror_mode": {
    "name": "ipython",
    "version": 3
   },
   "file_extension": ".py",
   "mimetype": "text/x-python",
   "name": "python",
   "nbconvert_exporter": "python",
   "pygments_lexer": "ipython3",
   "version": "3.6.0"
  }
 },
 "nbformat": 4,
 "nbformat_minor": 0
}
