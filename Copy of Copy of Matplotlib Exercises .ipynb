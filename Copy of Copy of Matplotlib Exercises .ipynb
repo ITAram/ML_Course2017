{
 "cells": [
  {
   "cell_type": "markdown",
   "metadata": {
    "colab_type": "text",
    "id": "yD30RQvCScDk"
   },
   "source": [
    "___\n",
    "\n",
    "<a href='http://www.pieriandata.com'> <img src='../Pierian_Data_Logo.png' /></a>\n",
    "___\n",
    "# Matplotlib Exercises \n",
    "\n",
    "Welcome to the exercises for reviewing matplotlib! Take your time with these, Matplotlib can be tricky to understand at first. These are relatively simple plots, but they can be hard if this is your first time with matplotlib, feel free to reference the solutions as you go along.\n",
    "\n",
    "Also don't worry if you find the matplotlib syntax frustrating, we actually won't be using it that often throughout the course, we will switch to using seaborn and pandas built-in visualization capabilities. But, those are built-off of matplotlib, which is why it is still important to get exposure to it!\n",
    "\n",
    "** * NOTE: ALL THE COMMANDS FOR PLOTTING A FIGURE SHOULD ALL GO IN THE SAME CELL. SEPARATING THEM OUT INTO MULTIPLE CELLS MAY CAUSE NOTHING TO SHOW UP. * **\n",
    "\n",
    "# Exercises\n",
    "\n",
    "Follow the instructions to recreate the plots using this data:\n",
    "\n",
    "## Data"
   ]
  },
  {
   "cell_type": "code",
   "execution_count": 0,
   "metadata": {
    "colab": {
     "autoexec": {
      "startup": false,
      "wait_interval": 0
     }
    },
    "colab_type": "code",
    "collapsed": true,
    "id": "JcBKxjLqScDn"
   },
   "outputs": [],
   "source": [
    "import numpy as np\n",
    "x = np.arange(0,100)\n",
    "y = x*2\n",
    "z = x**2"
   ]
  },
  {
   "cell_type": "markdown",
   "metadata": {
    "colab_type": "text",
    "id": "wKenrfHYScD0"
   },
   "source": [
    "** Import matplotlib.pyplot as plt and set %matplotlib inline if you are using the jupyter notebook. What command do you use if you aren't using the jupyter notebook?**"
   ]
  },
  {
   "cell_type": "code",
   "execution_count": 0,
   "metadata": {
    "colab": {
     "autoexec": {
      "startup": false,
      "wait_interval": 0
     }
    },
    "colab_type": "code",
    "collapsed": true,
    "id": "ktoGtg6GScD3"
   },
   "outputs": [],
   "source": [
    "import matplotlib.pyplot as plt\n",
    "%matplotlib inline"
   ]
  },
  {
   "cell_type": "markdown",
   "metadata": {
    "colab_type": "text",
    "id": "jyPcG9w5ScD9"
   },
   "source": [
    "## Exercise 1\n",
    "\n",
    "** Follow along with these steps: **\n",
    "* ** Create a figure object called fig using plt.figure() **\n",
    "* ** Use add_axes to add an axis to the figure canvas at [0,0,1,1]. Call this new axis ax. **\n",
    "* ** Plot (x,y) on that axes and set the labels and titles to match the plot below:**"
   ]
  },
  {
   "cell_type": "code",
   "execution_count": 16,
   "metadata": {
    "colab": {
     "autoexec": {
      "startup": false,
      "wait_interval": 0
     },
     "base_uri": "https://localhost:8080/",
     "height": 382,
     "output_extras": [
      {
       "item_id": 1
      },
      {
       "item_id": 2
      }
     ]
    },
    "colab_type": "code",
    "collapsed": false,
    "executionInfo": {
     "elapsed": 691,
     "status": "ok",
     "timestamp": 1510997386012,
     "user": {
      "displayName": "Aram Tovmasyan",
      "photoUrl": "//lh6.googleusercontent.com/-9fVmqRTL8sg/AAAAAAAAAAI/AAAAAAAAAc8/vks2HBurbII/s50-c-k-no/photo.jpg",
      "userId": "111511278704442066586"
     },
     "user_tz": -240
    },
    "id": "ZcYXxsPHScEA",
    "outputId": "edf661b8-8cbc-4e55-da1d-b7e9fa6bd1df"
   },
   "outputs": [
    {
     "data": {
      "text/plain": [
       "Text(0.5,1,u' Title')"
      ]
     },
     "execution_count": 16,
     "metadata": {
      "tags": []
     },
     "output_type": "execute_result"
    },
    {
     "data": {
      "image/png": "[encoded data removed]",
      "text/plain": [
       "<matplotlib.figure.Figure at 0x7f77f87b6210>"
      ]
     },
     "metadata": {
      "tags": []
     },
     "output_type": "display_data"
    }
   ],
   "source": [
    "# Create Figure (empty canvas)\n",
    "fig = plt.figure()\n",
    "# Add set of axes to figure\n",
    "ax = fig.add_axes([0, 0, 1, 1]) # left, bottom, width, height (range 0 to 1)\n",
    "\n",
    "# Plot on that set of axes\n",
    "ax.plot(x, y, 'g')\n",
    "ax.set_xlabel('X') \n",
    "ax.set_ylabel('Y')\n",
    "ax.set_title(' Title')"
   ]
  },
  {
   "cell_type": "markdown",
   "metadata": {
    "colab_type": "text",
    "id": "q9vl64w5ScEI"
   },
   "source": [
    "## Exercise 2\n",
    "** Create a figure object and put two axes on it, ax1 and ax2. Located at [0,0,1,1] and [0.2,0.5,.2,.2] respectively.**"
   ]
  },
  {
   "cell_type": "code",
   "execution_count": 23,
   "metadata": {
    "colab": {
     "autoexec": {
      "startup": false,
      "wait_interval": 0
     },
     "base_uri": "https://localhost:8080/",
     "height": 340,
     "output_extras": [
      {
       "item_id": 1
      }
     ]
    },
    "colab_type": "code",
    "collapsed": false,
    "executionInfo": {
     "elapsed": 677,
     "status": "ok",
     "timestamp": 1510997992235,
     "user": {
      "displayName": "Aram Tovmasyan",
      "photoUrl": "//lh6.googleusercontent.com/-9fVmqRTL8sg/AAAAAAAAAAI/AAAAAAAAAc8/vks2HBurbII/s50-c-k-no/photo.jpg",
      "userId": "111511278704442066586"
     },
     "user_tz": -240
    },
    "id": "haKTQe8rScEJ",
    "outputId": "6f805883-354d-415e-e100-a6f39058ccf5"
   },
   "outputs": [
    {
     "data": {
      "image/png": "[encoded data removed]",
      "text/plain": [
       "<matplotlib.figure.Figure at 0x7f77f8810e50>"
      ]
     },
     "metadata": {
      "tags": []
     },
     "output_type": "display_data"
    }
   ],
   "source": [
    "# Creates blank canvas\n",
    "fig1 = plt.figure()\n",
    "\n",
    "axes1 = fig1.add_axes([0, 0, 1, 1]) # main axes\n",
    "axes2 = fig1.add_axes([0.2, 0.5, .2, .2]) # inset axes\n",
    "\n",
    "\n",
    "\n"
   ]
  },
  {
   "cell_type": "markdown",
   "metadata": {
    "colab_type": "text",
    "id": "Y61-jmPWScER"
   },
   "source": [
    "** Now plot (x,y) on both axes. And call your figure object to show it.**"
   ]
  },
  {
   "cell_type": "code",
   "execution_count": 24,
   "metadata": {
    "colab": {
     "autoexec": {
      "startup": false,
      "wait_interval": 0
     },
     "base_uri": "https://localhost:8080/",
     "height": 365,
     "output_extras": [
      {
       "item_id": 1
      }
     ]
    },
    "colab_type": "code",
    "collapsed": false,
    "executionInfo": {
     "elapsed": 929,
     "status": "ok",
     "timestamp": 1510997995549,
     "user": {
      "displayName": "Aram Tovmasyan",
      "photoUrl": "//lh6.googleusercontent.com/-9fVmqRTL8sg/AAAAAAAAAAI/AAAAAAAAAc8/vks2HBurbII/s50-c-k-no/photo.jpg",
      "userId": "111511278704442066586"
     },
     "user_tz": -240
    },
    "id": "lbeTVOsyScET",
    "outputId": "898d3a64-8fdf-4a3e-8fea-f5e0384d8c90"
   },
   "outputs": [
    {
     "data": {
      "image/png": "[encoded data removed]",
      "text/plain": [
       "<matplotlib.figure.Figure at 0x7f77f8810e50>"
      ]
     },
     "execution_count": 24,
     "metadata": {
      "tags": []
     },
     "output_type": "execute_result"
    }
   ],
   "source": [
    "axes1.plot(x, y, 'b')\n",
    "axes1.set_xlabel('X_label_axes2')\n",
    "axes1.set_ylabel('Y_label_axes2')\n",
    "axes1.set_title('Axes 2 Title')\n",
    "axes2.plot(x, y, 'r')\n",
    "axes2.set_xlabel('X_label_axes2')\n",
    "axes2.set_ylabel('Y_label_axes2')\n",
    "axes2.set_title('Axes 2 Title');\n",
    "fig1"
   ]
  },
  {
   "cell_type": "markdown",
   "metadata": {
    "colab_type": "text",
    "id": "q7fRL4nKScEa"
   },
   "source": [
    "## Exercise 3\n",
    "\n",
    "** Create the plot below by adding two axes to a figure object at [0,0,1,1] and [0.2,0.5,.4,.4]**"
   ]
  },
  {
   "cell_type": "code",
   "execution_count": 29,
   "metadata": {
    "colab": {
     "autoexec": {
      "startup": false,
      "wait_interval": 0
     },
     "base_uri": "https://localhost:8080/",
     "height": 340,
     "output_extras": [
      {
       "item_id": 1
      }
     ]
    },
    "colab_type": "code",
    "collapsed": false,
    "executionInfo": {
     "elapsed": 792,
     "status": "ok",
     "timestamp": 1510998135680,
     "user": {
      "displayName": "Aram Tovmasyan",
      "photoUrl": "//lh6.googleusercontent.com/-9fVmqRTL8sg/AAAAAAAAAAI/AAAAAAAAAc8/vks2HBurbII/s50-c-k-no/photo.jpg",
      "userId": "111511278704442066586"
     },
     "user_tz": -240
    },
    "id": "E0Tz9o5NScEd",
    "outputId": "ea365305-69c6-41bc-cade-67d09801de7d"
   },
   "outputs": [
    {
     "data": {
      "image/png": "[encoded data removed]",
      "text/plain": [
       "<matplotlib.figure.Figure at 0x7f77f818c690>"
      ]
     },
     "metadata": {
      "tags": []
     },
     "output_type": "display_data"
    }
   ],
   "source": [
    "fig2 = plt.figure()\n",
    "\n",
    "axes1 = fig2.add_axes([0, 0, 1, 1]) # main axes\n",
    "axes2 = fig2.add_axes([0.2, 0.5, .4, .4]) # insert axes"
   ]
  },
  {
   "cell_type": "markdown",
   "metadata": {
    "colab_type": "text",
    "id": "RacI0CInScEo"
   },
   "source": [
    "** Now use x,y, and z arrays to recreate the plot below. Notice the xlimits and y limits on the inserted plot:**"
   ]
  },
  {
   "cell_type": "code",
   "execution_count": 32,
   "metadata": {
    "colab": {
     "autoexec": {
      "startup": false,
      "wait_interval": 0
     },
     "base_uri": "https://localhost:8080/",
     "height": 365,
     "output_extras": [
      {
       "item_id": 1
      }
     ]
    },
    "colab_type": "code",
    "collapsed": false,
    "executionInfo": {
     "elapsed": 685,
     "status": "ok",
     "timestamp": 1510998412779,
     "user": {
      "displayName": "Aram Tovmasyan",
      "photoUrl": "//lh6.googleusercontent.com/-9fVmqRTL8sg/AAAAAAAAAAI/AAAAAAAAAc8/vks2HBurbII/s50-c-k-no/photo.jpg",
      "userId": "111511278704442066586"
     },
     "user_tz": -240
    },
    "id": "vd_Ip6X2ScEp",
    "outputId": "b16366d4-35b2-4fa9-a3c5-9bbf153523cc"
   },
   "outputs": [
    {
     "data": {
      "image/png": "[encoded data removed]",
      "text/plain": [
       "<matplotlib.figure.Figure at 0x7f77f818c690>"
      ]
     },
     "execution_count": 32,
     "metadata": {
      "tags": []
     },
     "output_type": "execute_result"
    }
   ],
   "source": [
    "axes1.plot(x, z, 'b')\n",
    "axes1.set_xlabel('X_label_axes2')\n",
    "axes1.set_ylabel('Y_label_axes2')\n",
    "axes1.set_title('Axes 2 Title')\n",
    "axes2.plot(x, y, 'b')\n",
    "axes2.set_xlabel('X_label_axes2')\n",
    "axes2.set_xlim(20,22)\n",
    "axes2.set_ylim(30,50)\n",
    "axes2.set_ylabel('Y_label_axes2')\n",
    "axes2.set_title('Axes 2 Title');\n",
    "fig2"
   ]
  },
  {
   "cell_type": "markdown",
   "metadata": {
    "colab_type": "text",
    "id": "KRUxiWE1ScE2"
   },
   "source": [
    "## Exercise 4\n",
    "\n",
    "** Use plt.subplots(nrows=1, ncols=2) to create the plot below.**"
   ]
  },
  {
   "cell_type": "code",
   "execution_count": 33,
   "metadata": {
    "colab": {
     "autoexec": {
      "startup": false,
      "wait_interval": 0
     },
     "base_uri": "https://localhost:8080/",
     "height": 321,
     "output_extras": [
      {
       "item_id": 1
      },
      {
       "item_id": 2
      }
     ]
    },
    "colab_type": "code",
    "collapsed": false,
    "executionInfo": {
     "elapsed": 634,
     "status": "ok",
     "timestamp": 1510998512179,
     "user": {
      "displayName": "Aram Tovmasyan",
      "photoUrl": "//lh6.googleusercontent.com/-9fVmqRTL8sg/AAAAAAAAAAI/AAAAAAAAAc8/vks2HBurbII/s50-c-k-no/photo.jpg",
      "userId": "111511278704442066586"
     },
     "user_tz": -240
    },
    "id": "RxeC-DVFScE4",
    "outputId": "2489bd5c-e10b-40bb-a23b-3fa538dd653c"
   },
   "outputs": [
    {
     "data": {
      "text/plain": [
       "(<matplotlib.figure.Figure at 0x7f77f1fb28d0>,\n",
       " array([<matplotlib.axes._subplots.AxesSubplot object at 0x7f77f1f37710>,\n",
       "        <matplotlib.axes._subplots.AxesSubplot object at 0x7f77f1ef6750>], dtype=object))"
      ]
     },
     "execution_count": 33,
     "metadata": {
      "tags": []
     },
     "output_type": "execute_result"
    },
    {
     "data": {
      "image/png": "[encoded data removed]",
      "text/plain": [
       "<matplotlib.figure.Figure at 0x7f77f1fb28d0>"
      ]
     },
     "metadata": {
      "tags": []
     },
     "output_type": "display_data"
    }
   ],
   "source": [
    "plt.subplots(nrows=1, ncols=2)"
   ]
  },
  {
   "cell_type": "markdown",
   "metadata": {
    "colab_type": "text",
    "id": "DGWxYvKlScE_"
   },
   "source": [
    "** Now plot (x,y) and (x,z) on the axes. Play around with the linewidth and style**"
   ]
  },
  {
   "cell_type": "code",
   "execution_count": 37,
   "metadata": {
    "colab": {
     "autoexec": {
      "startup": false,
      "wait_interval": 0
     },
     "base_uri": "https://localhost:8080/",
     "height": 265,
     "output_extras": [
      {
       "item_id": 1
      }
     ]
    },
    "colab_type": "code",
    "collapsed": false,
    "executionInfo": {
     "elapsed": 644,
     "status": "ok",
     "timestamp": 1510998612790,
     "user": {
      "displayName": "Aram Tovmasyan",
      "photoUrl": "//lh6.googleusercontent.com/-9fVmqRTL8sg/AAAAAAAAAAI/AAAAAAAAAc8/vks2HBurbII/s50-c-k-no/photo.jpg",
      "userId": "111511278704442066586"
     },
     "user_tz": -240
    },
    "id": "Sd0Z1SLuScFB",
    "outputId": "94cc3d7c-d3bc-4838-8981-76ba956af050"
   },
   "outputs": [
    {
     "data": {
      "image/png": "[encoded data removed]",
      "text/plain": [
       "<matplotlib.figure.Figure at 0x7f77f870ee10>"
      ]
     },
     "metadata": {
      "tags": []
     },
     "output_type": "display_data"
    }
   ],
   "source": [
    "plt.subplot(1,2,1)\n",
    "plt.plot(x, y, 'b--')\n",
    "plt.subplot(1,2,2)\n",
    "plt.plot(x, z, 'r*-');"
   ]
  },
  {
   "cell_type": "markdown",
   "metadata": {
    "colab_type": "text",
    "id": "lqb7_Z8hScFJ"
   },
   "source": [
    "** See if you can resize the plot by adding the figsize() argument in plt.subplots() are copying and pasting your previous code.**"
   ]
  },
  {
   "cell_type": "code",
   "execution_count": 45,
   "metadata": {
    "colab": {
     "autoexec": {
      "startup": false,
      "wait_interval": 0
     },
     "base_uri": "https://localhost:8080/",
     "height": 211,
     "output_extras": [
      {
       "item_id": 1
      }
     ]
    },
    "colab_type": "code",
    "collapsed": false,
    "executionInfo": {
     "elapsed": 897,
     "status": "ok",
     "timestamp": 1510998978315,
     "user": {
      "displayName": "Aram Tovmasyan",
      "photoUrl": "//lh6.googleusercontent.com/-9fVmqRTL8sg/AAAAAAAAAAI/AAAAAAAAAc8/vks2HBurbII/s50-c-k-no/photo.jpg",
      "userId": "111511278704442066586"
     },
     "user_tz": -240
    },
    "id": "ouEtAkGjScFK",
    "outputId": "432d87e0-58fc-433d-9464-c349a274f396"
   },
   "outputs": [
    {
     "data": {
      "image/png": "[encoded data removed]",
      "text/plain": [
       "<matplotlib.figure.Figure at 0x7f77f1dc2150>"
      ]
     },
     "metadata": {
      "tags": []
     },
     "output_type": "display_data"
    }
   ],
   "source": [
    "plt.subplots(nrows=1, ncols=2,figsize=(12,3))\n",
    "plt.subplot(1,2,1)\n",
    "plt.plot(x, y, 'b--')\n",
    "plt.subplot(1,2,2)\n",
    "plt.plot(x, z, 'r--');"
   ]
  },
  {
   "cell_type": "markdown",
   "metadata": {
    "colab_type": "text",
    "id": "RuJTUTYmScFS"
   },
   "source": [
    "# Great Job!"
   ]
  }
 ],
 "metadata": {
  "colab": {
   "collapsed_sections": [],
   "default_view": {},
   "name": "Copy of Copy of Matplotlib Exercises .ipynb",
   "provenance": [
    {
     "file_id": "1c4ZqBrF1xub37gcA2nnEvGY2VeQybFoP",
     "timestamp": 1510995674413
    },
    {
     "file_id": "1qQiHIRH8VdJ1Gh6wW0Ac6ODljo5aZi_k",
     "timestamp": 1510995588521
    }
   ],
   "version": "0.3.2",
   "views": {}
  },
  "kernelspec": {
   "display_name": "Python 3",
   "language": "python",
   "name": "python3"
  },
  "language_info": {
   "codemirror_mode": {
    "name": "ipython",
    "version": 3
   },
   "file_extension": ".py",
   "mimetype": "text/x-python",
   "name": "python",
   "nbconvert_exporter": "python",
   "pygments_lexer": "ipython3",
   "version": "3.6.0"
  }
 },
 "nbformat": 4,
 "nbformat_minor": 0
}
