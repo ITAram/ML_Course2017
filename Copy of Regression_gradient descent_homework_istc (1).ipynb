{
 "cells": [
  {
   "cell_type": "code",
   "execution_count": 0,
   "metadata": {
    "colab": {
     "autoexec": {
      "startup": false,
      "wait_interval": 0
     }
    },
    "colab_type": "code",
    "collapsed": true,
    "id": "Y70RiwsW1e9y"
   },
   "outputs": [],
   "source": [
    "import numpy as np\n",
    "import sys\n",
    "import pandas as pd"
   ]
  },
  {
   "cell_type": "code",
   "execution_count": 0,
   "metadata": {
    "colab": {
     "autoexec": {
      "startup": false,
      "wait_interval": 0
     }
    },
    "colab_type": "code",
    "collapsed": true,
    "id": "IxQ7YPZL1e9-"
   },
   "outputs": [],
   "source": [
    "def fit_ridge_regression(X, Y, l):\n",
    "    \"\"\"\n",
    "    Calculates and returns analityc solution for ridge regression.\n",
    "\n",
    "    :param X: data matrix (2 dimensional np.array)\n",
    "    :param Y: response variables (1 dimensional np.array)\n",
    "    :param l: regularization parameter lambda\n",
    "    :return: value of beta (1 dimensional np.array)\n",
    "    \"\"\"\n",
    "    \n",
    "    # TODO: Implement fit_ridge_regression (same as previous homeworks)\n",
    "    \n",
    "    #beta = np.zeros(X.shape[1])\n",
    "    beta = np.dot(np.dot(np.linalg.inv(np.dot(X.T,X)-l),X.T),Y)\n",
    "    return beta\n"
   ]
  },
  {
   "cell_type": "code",
   "execution_count": 0,
   "metadata": {
    "colab": {
     "autoexec": {
      "startup": false,
      "wait_interval": 0
     }
    },
    "colab_type": "code",
    "collapsed": true,
    "id": "pzFhRDNRxUQf"
   },
   "outputs": [],
   "source": [
    "def cost_function(X, Y, beta):\n",
    "  \n",
    "  m = Y.shape[0]\n",
    "  #J = np.sum((X.dot(beta)-Y)**2)/2/m\n",
    "  J = np.sqrt(np.sum((X.dot(beta)-Y)**2)/m)\n",
    "  return J\n",
    "\n"
   ]
  },
  {
   "cell_type": "code",
   "execution_count": 0,
   "metadata": {
    "colab": {
     "autoexec": {
      "startup": false,
      "wait_interval": 0
     }
    },
    "colab_type": "code",
    "collapsed": true,
    "id": "XapOyWFE1uzg"
   },
   "outputs": [],
   "source": [
    "\n",
    "def gradient_descent(X, Y, l, epsilon, step_size, max_steps):\n",
    "    \"\"\"\n",
    "    Implement gradient descent using the value of the gradient\n",
    "    divided by number of samples.\n",
    "\n",
    "    :param X: data matrix (2 dimensional np.array)\n",
    "    :param Y: response variables (1 dimensional np.array)\n",
    "    :param l: regularization parameter lambda\n",
    "    :param epsilon: approximation strength\n",
    "    :param max_steps: maximum number of iterations before algorithm will\n",
    "        terminate.\n",
    "    :return: value of beta (1 dimensional np.array)\n",
    "    \"\"\"\n",
    "    beta = np.zeros(X.shape[1])\n",
    "    previous_beta= np.zeros(X.shape[1])\n",
    "    #print X.shape[1]\n",
    "    for s in range(max_steps):\n",
    "        # TODO: Implement iterations.\n",
    "        # Use normalized_gradient to calculate the gradient\n",
    "        #beta = beta-step_size*np.dot((np.dot(X,beta.T)-Y),X)+l*beta\n",
    "        m = Y.shape[0]\n",
    "        #print('size',m)\n",
    "        hypothesis = X.dot(beta)\n",
    "        #print('hypothesis', hypothesis.head())\n",
    "        loss = hypothesis-Y\n",
    "        #print('loss', loss.head())\n",
    "        gradient = X.T.dot(loss)/m\n",
    "        #print('gradient', gradient.head())\n",
    "        beta = beta-step_size*gradient-l*beta\n",
    "        #print('beta',beta)\n",
    "        #print(max(beta -previous_beta) )\n",
    "        #if max(abs(beta -previous_beta)) <epsilon:\n",
    "        if (abs(np.dot(beta,beta.T) -np.dot(previous_beta,previous_beta.T))) <epsilon:\n",
    "          print('less then epsilon')\n",
    "          break\n",
    "        else:  previous_beta= beta\n",
    "    return beta"
   ]
  },
  {
   "cell_type": "markdown",
   "metadata": {
    "colab_type": "text",
    "id": "rTEbA0o7AnBR"
   },
   "source": []
  },
  {
   "cell_type": "code",
   "execution_count": 0,
   "metadata": {
    "colab": {
     "autoexec": {
      "startup": false,
      "wait_interval": 0
     }
    },
    "colab_type": "code",
    "collapsed": true,
    "id": "esS1DLdH1vtV"
   },
   "outputs": [],
   "source": [
    "def ridge_loss_gradient(X, Y, beta, l):\n",
    "    \"\"\"\n",
    "    This function calculates the gradient for ridge regression for\n",
    "    parameter values beta.\n",
    "\n",
    "    :param X: data matrix (2 dimensional np.array)\n",
    "    :param Y: response variables (1 dimensional np.array)\n",
    "    :param beta: value of beta (1 dimensional np.array)\n",
    "    :param l: regularization parameter lambda\n",
    "    :return: normalized gradient, i.e. gradient normalized according to data\n",
    "    \"\"\"\n",
    "    # TODO: Implement\n",
    "    return np.zeros(X.shape[1])"
   ]
  },
  {
   "cell_type": "code",
   "execution_count": 0,
   "metadata": {
    "colab": {
     "autoexec": {
      "startup": false,
      "wait_interval": 0
     }
    },
    "colab_type": "code",
    "collapsed": true,
    "id": "2LyOS4el1wM0"
   },
   "outputs": [],
   "source": [
    "\n",
    "def loss(X, Y, beta):\n",
    "    \"\"\"\n",
    "    Calculate sum of error squares divided by number of points.\n",
    "\n",
    "    :param X: data matrix (2 dimensional np.array)\n",
    "    :param Y: response variables (1 dimensional np.array)\n",
    "    :param beta: value of beta (1 dimensional np.array)\n",
    "    :return: 1/N * SUM (y - x beta)^2\n",
    "    \"\"\"\n",
    "    print(X.shape[0])\n",
    "    #print(np.dot(X,beta.T))\n",
    "    #print((Y - np.dot(X,beta.T)))\n",
    "    #print((Y - np.dot(X,beta.T))**2)\n",
    "    #print(np.sum((Y - np.dot(X,beta.T))**2))\n",
    "    return  (1.0/X.shape[0]) * np.sum((Y - np.dot(X,beta.T))**2)\n",
    "   "
   ]
  },
  {
   "cell_type": "code",
   "execution_count": 0,
   "metadata": {
    "colab": {
     "autoexec": {
      "startup": false,
      "wait_interval": 0
     }
    },
    "colab_type": "code",
    "collapsed": true,
    "id": "XRXLUp6X1wWi"
   },
   "outputs": [],
   "source": [
    "def d_dimensional_comparison(d, beta_star, num_points, sigma, l=1):\n",
    "    # Generate data, no need to touch this code.\n",
    "    beta_star = np.array(beta_star)\n",
    "    X_list = [np.random.uniform(-1, 1, num_points) for _ in range(d)]\n",
    "    X = np.column_stack(X_list)\n",
    "    X = np.column_stack((np.ones(num_points), X))\n",
    "    Y = np.random.normal(X.dot(beta_star), sigma)\n",
    "   \n",
    "\n",
    "    # Calculate analytic and gradient descent beta hats.\n",
    "    beta_hat_analytic = fit_ridge_regression(X, Y, l=l)\n",
    "    beta_hat_grad = gradient_descent(X, Y, l=l, epsilon=1e-8, step_size=1e-2,\n",
    "                                     max_steps=10000)\n",
    "\n",
    "    # Testing code for your esimates.\n",
    "    if np.linalg.norm(beta_star - beta_hat_analytic) > 1.:\n",
    "        print('Your analytical betas is too far apart from beta star')\n",
    "        print('Analytical: ', beta_hat_analytic)\n",
    "        print('Beta star: ', beta_star)\n",
    "        \n",
    "\n",
    "    if np.linalg.norm(beta_hat_grad - beta_hat_analytic) > 1e-4:\n",
    "        print('Your gradient descent beta is too far apart from analytical '\n",
    "              'solution')\n",
    "        print('Beta gradient: ', beta_hat_grad)\n",
    "        print('Analytical: ', beta_hat_analytic)\n",
    "        \n",
    "\n",
    "    l_a = loss(X, Y, beta_hat_analytic)\n",
    "    l_gd = loss(X, Y, beta_hat_grad)\n",
    "    if abs((l_a - l_gd) / l_a) > 1e-8:\n",
    "        print('Your gradient and analytical losses are too far apart')\n",
    "        print('analytical loss:', l_a)\n",
    "        print('gradient loss:', l_gd)\n",
    "        \n",
    "\n",
    "    print('Passed')"
   ]
  },
  {
   "cell_type": "code",
   "execution_count": 9,
   "metadata": {
    "colab": {
     "autoexec": {
      "startup": false,
      "wait_interval": 0
     },
     "base_uri": "https://localhost:8080/",
     "height": 84,
     "output_extras": [
      {
       "item_id": 1
      },
      {
       "item_id": 2
      }
     ]
    },
    "colab_type": "code",
    "collapsed": false,
    "executionInfo": {
     "elapsed": 829,
     "status": "ok",
     "timestamp": 1511952060971,
     "user": {
      "displayName": "Aram Tovmasyan",
      "photoUrl": "//lh6.googleusercontent.com/-9fVmqRTL8sg/AAAAAAAAAAI/AAAAAAAAAc8/vks2HBurbII/s50-c-k-no/photo.jpg",
      "userId": "111511278704442066586"
     },
     "user_tz": -240
    },
    "id": "BAeWoZQN1wfg",
    "outputId": "cf8e5cb7-f841-4080-c003-097b62decaa2"
   },
   "outputs": [
    {
     "name": "stdout",
     "output_type": "stream",
     "text": [
      "200\n",
      "200\n",
      "Passed\n"
     ]
    },
    {
     "name": "stderr",
     "output_type": "stream",
     "text": [
      "/usr/local/lib/python2.7/dist-packages/ipykernel_launcher.py:34: RuntimeWarning: invalid value encountered in double_scalars\n"
     ]
    }
   ],
   "source": [
    "\n",
    "if __name__ == '__main__':\n",
    "    # Fist test the signature of your gradient descent function.\n",
    "    #beta_est = gradient_descent(np.array([[1, 2], [1, 3], [1, 4], [1, 5]]),\n",
    "    #                            np.array([2, 3, 4, 5.01]),\n",
    "    #                            l=0,\n",
    "    #                            epsilon=1e-4,\n",
    "    #                            step_size=1e-3,\n",
    "    #                            max_steps=2)\n",
    "    beta_est = gradient_descent(np.array([[1, 2], [1, 3], [1, 4], [1, 5]]),\n",
    "                                np.array([2, 3, 4, 5.01]),\n",
    "                                l=.1,\n",
    "                                epsilon=1e-8,\n",
    "                                step_size=1e-3,\n",
    "                                max_steps=10000)\n",
    "    \n",
    "    assert beta_est.shape == (2,)\n",
    "    # Call comparison function with the given 5-dimensional beta (b0, ..., b5)\n",
    "    beta5d = [1.5, 2.2, 3.5, 4.4, 1.1, 3.9]\n",
    "    d_dimensional_comparison(5, beta5d, 200, 2, l=1)\n"
   ]
  },
  {
   "cell_type": "code",
   "execution_count": 0,
   "metadata": {
    "colab": {
     "autoexec": {
      "startup": false,
      "wait_interval": 0
     }
    },
    "colab_type": "code",
    "collapsed": true,
    "id": "2FmxLkFM1wpT"
   },
   "outputs": [],
   "source": [
    "from google.colab import auth\n",
    "auth.authenticate_user()\n",
    "\n",
    "file_id = '11IxUEDdn3UgTl-5uxi-siJ5GS3b1U2h4'#created.get('id')\n",
    "\n",
    "import io\n",
    "from googleapiclient.http import MediaIoBaseDownload\n",
    "\n",
    "from googleapiclient.discovery import build\n",
    "drive_service = build('drive', 'v3') #4/-ztrYCQVSdiJRl0lnh12uWvCg02WHyNOUnJ90ex7BNE verification code\n",
    "\n",
    "\n"
   ]
  },
  {
   "cell_type": "code",
   "execution_count": 11,
   "metadata": {
    "colab": {
     "autoexec": {
      "startup": false,
      "wait_interval": 0
     },
     "base_uri": "https://localhost:8080/",
     "height": 34,
     "output_extras": [
      {
       "item_id": 1
      }
     ]
    },
    "colab_type": "code",
    "collapsed": false,
    "executionInfo": {
     "elapsed": 2078,
     "status": "ok",
     "timestamp": 1511952100911,
     "user": {
      "displayName": "Aram Tovmasyan",
      "photoUrl": "//lh6.googleusercontent.com/-9fVmqRTL8sg/AAAAAAAAAAI/AAAAAAAAAc8/vks2HBurbII/s50-c-k-no/photo.jpg",
      "userId": "111511278704442066586"
     },
     "user_tz": -240
    },
    "id": "OBQVX6GIoSs0",
    "outputId": "973bc7b8-a7a2-4833-90a0-a73623137c25"
   },
   "outputs": [
    {
     "data": {
      "text/plain": [
       "0L"
      ]
     },
     "execution_count": 11,
     "metadata": {
      "tags": []
     },
     "output_type": "execute_result"
    }
   ],
   "source": [
    "request = drive_service.files().get_media(fileId=file_id)\n",
    "downloaded = io.BytesIO()\n",
    "downloader = MediaIoBaseDownload(downloaded, request)\n",
    "done = False\n",
    "while done is False:\n",
    "  # _ is a placeholder for a progress object that we ignore.\n",
    "  # (Our file is small, so we skip reporting progress.)\n",
    "  _, done = downloader.next_chunk()\n",
    "  \n",
    "downloaded.seek(0)"
   ]
  },
  {
   "cell_type": "code",
   "execution_count": 0,
   "metadata": {
    "colab": {
     "autoexec": {
      "startup": false,
      "wait_interval": 0
     }
    },
    "colab_type": "code",
    "collapsed": true,
    "id": "mUZPvyd14r9t"
   },
   "outputs": [],
   "source": [
    "df = pd.read_csv(downloaded)"
   ]
  },
  {
   "cell_type": "code",
   "execution_count": 69,
   "metadata": {
    "colab": {
     "autoexec": {
      "startup": false,
      "wait_interval": 0
     },
     "base_uri": "https://localhost:8080/",
     "height": 336,
     "output_extras": [
      {
       "item_id": 1
      }
     ]
    },
    "colab_type": "code",
    "collapsed": false,
    "executionInfo": {
     "elapsed": 888,
     "status": "ok",
     "timestamp": 1511967393674,
     "user": {
      "displayName": "Aram Tovmasyan",
      "photoUrl": "//lh6.googleusercontent.com/-9fVmqRTL8sg/AAAAAAAAAAI/AAAAAAAAAc8/vks2HBurbII/s50-c-k-no/photo.jpg",
      "userId": "111511278704442066586"
     },
     "user_tz": -240
    },
    "id": "DTBdhhnX1wzj",
    "outputId": "fc9ad626-9e66-48e6-af88-e00a64b9b975"
   },
   "outputs": [
    {
     "name": "stdout",
     "output_type": "stream",
     "text": [
      "<class 'pandas.core.frame.DataFrame'>\n",
      "RangeIndex: 6234 entries, 0 to 6233\n",
      "Data columns (total 14 columns):\n",
      "Unnamed: 0        6234 non-null int64\n",
      "price             6234 non-null float64\n",
      "condition         6234 non-null object\n",
      "district          6234 non-null object\n",
      "max_floor         6234 non-null int64\n",
      "street            6234 non-null object\n",
      "num_rooms         6234 non-null int64\n",
      "region            6234 non-null object\n",
      "area              6234 non-null float64\n",
      "url               6234 non-null object\n",
      "num_bathrooms     6234 non-null int64\n",
      "building_type     6234 non-null object\n",
      "floor             6234 non-null int64\n",
      "ceiling_height    6234 non-null float64\n",
      "dtypes: float64(3), int64(5), object(6)\n",
      "memory usage: 681.9+ KB\n"
     ]
    }
   ],
   "source": [
    "df.info()"
   ]
  },
  {
   "cell_type": "code",
   "execution_count": 14,
   "metadata": {
    "colab": {
     "autoexec": {
      "startup": false,
      "wait_interval": 0
     },
     "base_uri": "https://localhost:8080/",
     "height": 313,
     "output_extras": [
      {
       "item_id": 1
      }
     ]
    },
    "colab_type": "code",
    "collapsed": false,
    "executionInfo": {
     "elapsed": 1076,
     "status": "ok",
     "timestamp": 1511952108024,
     "user": {
      "displayName": "Aram Tovmasyan",
      "photoUrl": "//lh6.googleusercontent.com/-9fVmqRTL8sg/AAAAAAAAAAI/AAAAAAAAAc8/vks2HBurbII/s50-c-k-no/photo.jpg",
      "userId": "111511278704442066586"
     },
     "user_tz": -240
    },
    "id": "-BV8n-1h1e-H",
    "outputId": "a62eb3bd-8ec2-4ff4-f30f-c909f4b153df"
   },
   "outputs": [
    {
     "data": {
      "text/html": [
       "<div>\n",
       "<style>\n",
       "    .dataframe thead tr:only-child th {\n",
       "        text-align: right;\n",
       "    }\n",
       "\n",
       "    .dataframe thead th {\n",
       "        text-align: left;\n",
       "    }\n",
       "\n",
       "    .dataframe tbody tr th {\n",
       "        vertical-align: top;\n",
       "    }\n",
       "</style>\n",
       "<table border=\"1\" class=\"dataframe\">\n",
       "  <thead>\n",
       "    <tr style=\"text-align: right;\">\n",
       "      <th></th>\n",
       "      <th>Unnamed: 0</th>\n",
       "      <th>price</th>\n",
       "      <th>condition</th>\n",
       "      <th>district</th>\n",
       "      <th>max_floor</th>\n",
       "      <th>street</th>\n",
       "      <th>num_rooms</th>\n",
       "      <th>region</th>\n",
       "      <th>area</th>\n",
       "      <th>url</th>\n",
       "      <th>num_bathrooms</th>\n",
       "      <th>building_type</th>\n",
       "      <th>floor</th>\n",
       "      <th>ceiling_height</th>\n",
       "    </tr>\n",
       "  </thead>\n",
       "  <tbody>\n",
       "    <tr>\n",
       "      <th>0</th>\n",
       "      <td>0</td>\n",
       "      <td>65000.0</td>\n",
       "      <td>good</td>\n",
       "      <td>Center</td>\n",
       "      <td>9</td>\n",
       "      <td>Vardanants St</td>\n",
       "      <td>3</td>\n",
       "      <td>Yerevan</td>\n",
       "      <td>80.0</td>\n",
       "      <td>http://www.myrealty.am/en/item/24032/3-senyaka...</td>\n",
       "      <td>1</td>\n",
       "      <td>panel</td>\n",
       "      <td>4</td>\n",
       "      <td>2.8</td>\n",
       "    </tr>\n",
       "    <tr>\n",
       "      <th>1</th>\n",
       "      <td>1</td>\n",
       "      <td>140000.0</td>\n",
       "      <td>newly repaired</td>\n",
       "      <td>Arabkir</td>\n",
       "      <td>10</td>\n",
       "      <td>Hr.Kochar St</td>\n",
       "      <td>4</td>\n",
       "      <td>Yerevan</td>\n",
       "      <td>115.0</td>\n",
       "      <td>http://www.myrealty.am/en/item/17599/4-senyaka...</td>\n",
       "      <td>1</td>\n",
       "      <td>monolit</td>\n",
       "      <td>2</td>\n",
       "      <td>3.0</td>\n",
       "    </tr>\n",
       "    <tr>\n",
       "      <th>2</th>\n",
       "      <td>2</td>\n",
       "      <td>97000.0</td>\n",
       "      <td>newly repaired</td>\n",
       "      <td>Center</td>\n",
       "      <td>10</td>\n",
       "      <td>Teryan St</td>\n",
       "      <td>2</td>\n",
       "      <td>Yerevan</td>\n",
       "      <td>72.0</td>\n",
       "      <td>http://www.myrealty.am/en/item/29472/2-senyaka...</td>\n",
       "      <td>1</td>\n",
       "      <td>panel</td>\n",
       "      <td>3</td>\n",
       "      <td>2.8</td>\n",
       "    </tr>\n",
       "    <tr>\n",
       "      <th>3</th>\n",
       "      <td>3</td>\n",
       "      <td>47000.0</td>\n",
       "      <td>good</td>\n",
       "      <td>Center</td>\n",
       "      <td>9</td>\n",
       "      <td>D. Demirchyan St</td>\n",
       "      <td>1</td>\n",
       "      <td>Yerevan</td>\n",
       "      <td>43.0</td>\n",
       "      <td>http://www.myrealty.am/en/item/37186/1-senyaka...</td>\n",
       "      <td>1</td>\n",
       "      <td>panel</td>\n",
       "      <td>9</td>\n",
       "      <td>2.8</td>\n",
       "    </tr>\n",
       "    <tr>\n",
       "      <th>4</th>\n",
       "      <td>4</td>\n",
       "      <td>51000.0</td>\n",
       "      <td>newly repaired</td>\n",
       "      <td>Center</td>\n",
       "      <td>14</td>\n",
       "      <td>Sayat Nova Ave</td>\n",
       "      <td>1</td>\n",
       "      <td>Yerevan</td>\n",
       "      <td>33.0</td>\n",
       "      <td>http://www.myrealty.am/en/item/37184/1-senyaka...</td>\n",
       "      <td>1</td>\n",
       "      <td>other</td>\n",
       "      <td>4</td>\n",
       "      <td>2.8</td>\n",
       "    </tr>\n",
       "  </tbody>\n",
       "</table>\n",
       "</div>"
      ],
      "text/plain": [
       "   Unnamed: 0     price       condition district  max_floor            street  \\\n",
       "0           0   65000.0            good   Center          9     Vardanants St   \n",
       "1           1  140000.0  newly repaired  Arabkir         10      Hr.Kochar St   \n",
       "2           2   97000.0  newly repaired   Center         10         Teryan St   \n",
       "3           3   47000.0            good   Center          9  D. Demirchyan St   \n",
       "4           4   51000.0  newly repaired   Center         14    Sayat Nova Ave   \n",
       "\n",
       "   num_rooms   region   area  \\\n",
       "0          3  Yerevan   80.0   \n",
       "1          4  Yerevan  115.0   \n",
       "2          2  Yerevan   72.0   \n",
       "3          1  Yerevan   43.0   \n",
       "4          1  Yerevan   33.0   \n",
       "\n",
       "                                                 url  num_bathrooms  \\\n",
       "0  http://www.myrealty.am/en/item/24032/3-senyaka...              1   \n",
       "1  http://www.myrealty.am/en/item/17599/4-senyaka...              1   \n",
       "2  http://www.myrealty.am/en/item/29472/2-senyaka...              1   \n",
       "3  http://www.myrealty.am/en/item/37186/1-senyaka...              1   \n",
       "4  http://www.myrealty.am/en/item/37184/1-senyaka...              1   \n",
       "\n",
       "  building_type  floor  ceiling_height  \n",
       "0         panel      4             2.8  \n",
       "1       monolit      2             3.0  \n",
       "2         panel      3             2.8  \n",
       "3         panel      9             2.8  \n",
       "4         other      4             2.8  "
      ]
     },
     "execution_count": 14,
     "metadata": {
      "tags": []
     },
     "output_type": "execute_result"
    }
   ],
   "source": [
    "df.head()"
   ]
  },
  {
   "cell_type": "code",
   "execution_count": 0,
   "metadata": {
    "colab": {
     "autoexec": {
      "startup": false,
      "wait_interval": 0
     }
    },
    "colab_type": "code",
    "collapsed": true,
    "id": "epi-nGso1e-M"
   },
   "outputs": [],
   "source": [
    "#i = np.random.randint(0,N,np.int(N*.8))\n"
   ]
  },
  {
   "cell_type": "code",
   "execution_count": 0,
   "metadata": {
    "colab": {
     "autoexec": {
      "startup": false,
      "wait_interval": 0
     }
    },
    "colab_type": "code",
    "collapsed": true,
    "id": "repTaPJV9aIW"
   },
   "outputs": [],
   "source": [
    "# 1. categorical poxel tvayini 2. ambohji hamar gradient descent ashxatacnel u stanal Beta vori depqum lossy <30000 #df.iloc[25088]\n",
    "\n",
    "dfX = pd.get_dummies(df.drop('url',axis=1).drop('street',axis=1).drop('Unnamed: 0',axis=1).drop('price',axis=1).drop('region',axis=1)).copy()\n",
    "dfY = (df['price'])\n",
    "\n"
   ]
  },
  {
   "cell_type": "code",
   "execution_count": 84,
   "metadata": {
    "colab": {
     "autoexec": {
      "startup": false,
      "wait_interval": 0
     },
     "base_uri": "https://localhost:8080/",
     "height": 261,
     "output_extras": [
      {
       "item_id": 1
      }
     ]
    },
    "colab_type": "code",
    "collapsed": false,
    "executionInfo": {
     "elapsed": 838,
     "status": "ok",
     "timestamp": 1511968133992,
     "user": {
      "displayName": "Aram Tovmasyan",
      "photoUrl": "//lh6.googleusercontent.com/-9fVmqRTL8sg/AAAAAAAAAAI/AAAAAAAAAc8/vks2HBurbII/s50-c-k-no/photo.jpg",
      "userId": "111511278704442066586"
     },
     "user_tz": -240
    },
    "id": "cjf0bxpXmpSh",
    "outputId": "7e029254-b9ce-4b35-ca96-552b8e4767ec"
   },
   "outputs": [
    {
     "data": {
      "text/html": [
       "<div>\n",
       "<style>\n",
       "    .dataframe thead tr:only-child th {\n",
       "        text-align: right;\n",
       "    }\n",
       "\n",
       "    .dataframe thead th {\n",
       "        text-align: left;\n",
       "    }\n",
       "\n",
       "    .dataframe tbody tr th {\n",
       "        vertical-align: top;\n",
       "    }\n",
       "</style>\n",
       "<table border=\"1\" class=\"dataframe\">\n",
       "  <thead>\n",
       "    <tr style=\"text-align: right;\">\n",
       "      <th></th>\n",
       "      <th>max_floor</th>\n",
       "      <th>num_rooms</th>\n",
       "      <th>area</th>\n",
       "      <th>num_bathrooms</th>\n",
       "      <th>floor</th>\n",
       "      <th>ceiling_height</th>\n",
       "      <th>condition_good</th>\n",
       "      <th>condition_newly repaired</th>\n",
       "      <th>condition_zero condition</th>\n",
       "      <th>district_Achapnyak</th>\n",
       "      <th>...</th>\n",
       "      <th>district_Nor Norq</th>\n",
       "      <th>district_Norq Marash</th>\n",
       "      <th>district_Nubarashen</th>\n",
       "      <th>district_Qanaqer-Zeytun</th>\n",
       "      <th>district_Shengavit</th>\n",
       "      <th>district_Vahagni district</th>\n",
       "      <th>building_type_monolit</th>\n",
       "      <th>building_type_other</th>\n",
       "      <th>building_type_panel</th>\n",
       "      <th>building_type_stone</th>\n",
       "    </tr>\n",
       "  </thead>\n",
       "  <tbody>\n",
       "    <tr>\n",
       "      <th>0</th>\n",
       "      <td>9</td>\n",
       "      <td>3</td>\n",
       "      <td>80.0</td>\n",
       "      <td>1</td>\n",
       "      <td>4</td>\n",
       "      <td>2.8</td>\n",
       "      <td>1</td>\n",
       "      <td>0</td>\n",
       "      <td>0</td>\n",
       "      <td>0</td>\n",
       "      <td>...</td>\n",
       "      <td>0</td>\n",
       "      <td>0</td>\n",
       "      <td>0</td>\n",
       "      <td>0</td>\n",
       "      <td>0</td>\n",
       "      <td>0</td>\n",
       "      <td>0</td>\n",
       "      <td>0</td>\n",
       "      <td>1</td>\n",
       "      <td>0</td>\n",
       "    </tr>\n",
       "    <tr>\n",
       "      <th>1</th>\n",
       "      <td>10</td>\n",
       "      <td>4</td>\n",
       "      <td>115.0</td>\n",
       "      <td>1</td>\n",
       "      <td>2</td>\n",
       "      <td>3.0</td>\n",
       "      <td>0</td>\n",
       "      <td>1</td>\n",
       "      <td>0</td>\n",
       "      <td>0</td>\n",
       "      <td>...</td>\n",
       "      <td>0</td>\n",
       "      <td>0</td>\n",
       "      <td>0</td>\n",
       "      <td>0</td>\n",
       "      <td>0</td>\n",
       "      <td>0</td>\n",
       "      <td>1</td>\n",
       "      <td>0</td>\n",
       "      <td>0</td>\n",
       "      <td>0</td>\n",
       "    </tr>\n",
       "    <tr>\n",
       "      <th>2</th>\n",
       "      <td>10</td>\n",
       "      <td>2</td>\n",
       "      <td>72.0</td>\n",
       "      <td>1</td>\n",
       "      <td>3</td>\n",
       "      <td>2.8</td>\n",
       "      <td>0</td>\n",
       "      <td>1</td>\n",
       "      <td>0</td>\n",
       "      <td>0</td>\n",
       "      <td>...</td>\n",
       "      <td>0</td>\n",
       "      <td>0</td>\n",
       "      <td>0</td>\n",
       "      <td>0</td>\n",
       "      <td>0</td>\n",
       "      <td>0</td>\n",
       "      <td>0</td>\n",
       "      <td>0</td>\n",
       "      <td>1</td>\n",
       "      <td>0</td>\n",
       "    </tr>\n",
       "    <tr>\n",
       "      <th>3</th>\n",
       "      <td>9</td>\n",
       "      <td>1</td>\n",
       "      <td>43.0</td>\n",
       "      <td>1</td>\n",
       "      <td>9</td>\n",
       "      <td>2.8</td>\n",
       "      <td>1</td>\n",
       "      <td>0</td>\n",
       "      <td>0</td>\n",
       "      <td>0</td>\n",
       "      <td>...</td>\n",
       "      <td>0</td>\n",
       "      <td>0</td>\n",
       "      <td>0</td>\n",
       "      <td>0</td>\n",
       "      <td>0</td>\n",
       "      <td>0</td>\n",
       "      <td>0</td>\n",
       "      <td>0</td>\n",
       "      <td>1</td>\n",
       "      <td>0</td>\n",
       "    </tr>\n",
       "    <tr>\n",
       "      <th>4</th>\n",
       "      <td>14</td>\n",
       "      <td>1</td>\n",
       "      <td>33.0</td>\n",
       "      <td>1</td>\n",
       "      <td>4</td>\n",
       "      <td>2.8</td>\n",
       "      <td>0</td>\n",
       "      <td>1</td>\n",
       "      <td>0</td>\n",
       "      <td>0</td>\n",
       "      <td>...</td>\n",
       "      <td>0</td>\n",
       "      <td>0</td>\n",
       "      <td>0</td>\n",
       "      <td>0</td>\n",
       "      <td>0</td>\n",
       "      <td>0</td>\n",
       "      <td>0</td>\n",
       "      <td>1</td>\n",
       "      <td>0</td>\n",
       "      <td>0</td>\n",
       "    </tr>\n",
       "  </tbody>\n",
       "</table>\n",
       "<p>5 rows × 26 columns</p>\n",
       "</div>"
      ],
      "text/plain": [
       "   max_floor  num_rooms   area  num_bathrooms  floor  ceiling_height  \\\n",
       "0          9          3   80.0              1      4             2.8   \n",
       "1         10          4  115.0              1      2             3.0   \n",
       "2         10          2   72.0              1      3             2.8   \n",
       "3          9          1   43.0              1      9             2.8   \n",
       "4         14          1   33.0              1      4             2.8   \n",
       "\n",
       "   condition_good  condition_newly repaired  condition_zero condition  \\\n",
       "0               1                         0                         0   \n",
       "1               0                         1                         0   \n",
       "2               0                         1                         0   \n",
       "3               1                         0                         0   \n",
       "4               0                         1                         0   \n",
       "\n",
       "   district_Achapnyak         ...           district_Nor Norq  \\\n",
       "0                   0         ...                           0   \n",
       "1                   0         ...                           0   \n",
       "2                   0         ...                           0   \n",
       "3                   0         ...                           0   \n",
       "4                   0         ...                           0   \n",
       "\n",
       "   district_Norq Marash  district_Nubarashen  district_Qanaqer-Zeytun  \\\n",
       "0                     0                    0                        0   \n",
       "1                     0                    0                        0   \n",
       "2                     0                    0                        0   \n",
       "3                     0                    0                        0   \n",
       "4                     0                    0                        0   \n",
       "\n",
       "   district_Shengavit  district_Vahagni district  building_type_monolit  \\\n",
       "0                   0                          0                      0   \n",
       "1                   0                          0                      1   \n",
       "2                   0                          0                      0   \n",
       "3                   0                          0                      0   \n",
       "4                   0                          0                      0   \n",
       "\n",
       "   building_type_other  building_type_panel  building_type_stone  \n",
       "0                    0                    1                    0  \n",
       "1                    0                    0                    0  \n",
       "2                    0                    1                    0  \n",
       "3                    0                    1                    0  \n",
       "4                    1                    0                    0  \n",
       "\n",
       "[5 rows x 26 columns]"
      ]
     },
     "execution_count": 84,
     "metadata": {
      "tags": []
     },
     "output_type": "execute_result"
    }
   ],
   "source": [
    "dfX.head()"
   ]
  },
  {
   "cell_type": "code",
   "execution_count": 85,
   "metadata": {
    "colab": {
     "autoexec": {
      "startup": false,
      "wait_interval": 0
     },
     "base_uri": "https://localhost:8080/",
     "height": 118,
     "output_extras": [
      {
       "item_id": 1
      }
     ]
    },
    "colab_type": "code",
    "collapsed": false,
    "executionInfo": {
     "elapsed": 853,
     "status": "ok",
     "timestamp": 1511968137179,
     "user": {
      "displayName": "Aram Tovmasyan",
      "photoUrl": "//lh6.googleusercontent.com/-9fVmqRTL8sg/AAAAAAAAAAI/AAAAAAAAAc8/vks2HBurbII/s50-c-k-no/photo.jpg",
      "userId": "111511278704442066586"
     },
     "user_tz": -240
    },
    "id": "TmfNU-11k6-H",
    "outputId": "d87b7d81-f30c-4d4e-825e-61e94ab54bec"
   },
   "outputs": [
    {
     "data": {
      "text/plain": [
       "0     65000.0\n",
       "1    140000.0\n",
       "2     97000.0\n",
       "3     47000.0\n",
       "4     51000.0\n",
       "Name: price, dtype: float64"
      ]
     },
     "execution_count": 85,
     "metadata": {
      "tags": []
     },
     "output_type": "execute_result"
    }
   ],
   "source": [
    "dfY.head()"
   ]
  },
  {
   "cell_type": "code",
   "execution_count": 0,
   "metadata": {
    "colab": {
     "autoexec": {
      "startup": false,
      "wait_interval": 0
     }
    },
    "colab_type": "code",
    "collapsed": true,
    "id": "0iTt2lTUgg00"
   },
   "outputs": [],
   "source": [
    "ones= pd.DataFrame(data = np.ones(dfX.index.size))\n",
    "#ones.info\n"
   ]
  },
  {
   "cell_type": "code",
   "execution_count": 86,
   "metadata": {
    "colab": {
     "autoexec": {
      "startup": false,
      "wait_interval": 0
     },
     "base_uri": "https://localhost:8080/",
     "height": 261,
     "output_extras": [
      {
       "item_id": 1
      }
     ]
    },
    "colab_type": "code",
    "collapsed": false,
    "executionInfo": {
     "elapsed": 943,
     "status": "ok",
     "timestamp": 1511968140778,
     "user": {
      "displayName": "Aram Tovmasyan",
      "photoUrl": "//lh6.googleusercontent.com/-9fVmqRTL8sg/AAAAAAAAAAI/AAAAAAAAAc8/vks2HBurbII/s50-c-k-no/photo.jpg",
      "userId": "111511278704442066586"
     },
     "user_tz": -240
    },
    "id": "qqy9Co6McZYf",
    "outputId": "7b6cbf26-5675-4637-cc1c-a5ef2c60ff55"
   },
   "outputs": [
    {
     "data": {
      "text/html": [
       "<div>\n",
       "<style>\n",
       "    .dataframe thead tr:only-child th {\n",
       "        text-align: right;\n",
       "    }\n",
       "\n",
       "    .dataframe thead th {\n",
       "        text-align: left;\n",
       "    }\n",
       "\n",
       "    .dataframe tbody tr th {\n",
       "        vertical-align: top;\n",
       "    }\n",
       "</style>\n",
       "<table border=\"1\" class=\"dataframe\">\n",
       "  <thead>\n",
       "    <tr style=\"text-align: right;\">\n",
       "      <th></th>\n",
       "      <th>0</th>\n",
       "      <th>max_floor</th>\n",
       "      <th>num_rooms</th>\n",
       "      <th>area</th>\n",
       "      <th>num_bathrooms</th>\n",
       "      <th>floor</th>\n",
       "      <th>ceiling_height</th>\n",
       "      <th>condition_good</th>\n",
       "      <th>condition_newly repaired</th>\n",
       "      <th>condition_zero condition</th>\n",
       "      <th>...</th>\n",
       "      <th>district_Nor Norq</th>\n",
       "      <th>district_Norq Marash</th>\n",
       "      <th>district_Nubarashen</th>\n",
       "      <th>district_Qanaqer-Zeytun</th>\n",
       "      <th>district_Shengavit</th>\n",
       "      <th>district_Vahagni district</th>\n",
       "      <th>building_type_monolit</th>\n",
       "      <th>building_type_other</th>\n",
       "      <th>building_type_panel</th>\n",
       "      <th>building_type_stone</th>\n",
       "    </tr>\n",
       "  </thead>\n",
       "  <tbody>\n",
       "    <tr>\n",
       "      <th>0</th>\n",
       "      <td>1.0</td>\n",
       "      <td>9</td>\n",
       "      <td>3</td>\n",
       "      <td>80.0</td>\n",
       "      <td>1</td>\n",
       "      <td>4</td>\n",
       "      <td>2.8</td>\n",
       "      <td>1</td>\n",
       "      <td>0</td>\n",
       "      <td>0</td>\n",
       "      <td>...</td>\n",
       "      <td>0</td>\n",
       "      <td>0</td>\n",
       "      <td>0</td>\n",
       "      <td>0</td>\n",
       "      <td>0</td>\n",
       "      <td>0</td>\n",
       "      <td>0</td>\n",
       "      <td>0</td>\n",
       "      <td>1</td>\n",
       "      <td>0</td>\n",
       "    </tr>\n",
       "    <tr>\n",
       "      <th>1</th>\n",
       "      <td>1.0</td>\n",
       "      <td>10</td>\n",
       "      <td>4</td>\n",
       "      <td>115.0</td>\n",
       "      <td>1</td>\n",
       "      <td>2</td>\n",
       "      <td>3.0</td>\n",
       "      <td>0</td>\n",
       "      <td>1</td>\n",
       "      <td>0</td>\n",
       "      <td>...</td>\n",
       "      <td>0</td>\n",
       "      <td>0</td>\n",
       "      <td>0</td>\n",
       "      <td>0</td>\n",
       "      <td>0</td>\n",
       "      <td>0</td>\n",
       "      <td>1</td>\n",
       "      <td>0</td>\n",
       "      <td>0</td>\n",
       "      <td>0</td>\n",
       "    </tr>\n",
       "    <tr>\n",
       "      <th>2</th>\n",
       "      <td>1.0</td>\n",
       "      <td>10</td>\n",
       "      <td>2</td>\n",
       "      <td>72.0</td>\n",
       "      <td>1</td>\n",
       "      <td>3</td>\n",
       "      <td>2.8</td>\n",
       "      <td>0</td>\n",
       "      <td>1</td>\n",
       "      <td>0</td>\n",
       "      <td>...</td>\n",
       "      <td>0</td>\n",
       "      <td>0</td>\n",
       "      <td>0</td>\n",
       "      <td>0</td>\n",
       "      <td>0</td>\n",
       "      <td>0</td>\n",
       "      <td>0</td>\n",
       "      <td>0</td>\n",
       "      <td>1</td>\n",
       "      <td>0</td>\n",
       "    </tr>\n",
       "    <tr>\n",
       "      <th>3</th>\n",
       "      <td>1.0</td>\n",
       "      <td>9</td>\n",
       "      <td>1</td>\n",
       "      <td>43.0</td>\n",
       "      <td>1</td>\n",
       "      <td>9</td>\n",
       "      <td>2.8</td>\n",
       "      <td>1</td>\n",
       "      <td>0</td>\n",
       "      <td>0</td>\n",
       "      <td>...</td>\n",
       "      <td>0</td>\n",
       "      <td>0</td>\n",
       "      <td>0</td>\n",
       "      <td>0</td>\n",
       "      <td>0</td>\n",
       "      <td>0</td>\n",
       "      <td>0</td>\n",
       "      <td>0</td>\n",
       "      <td>1</td>\n",
       "      <td>0</td>\n",
       "    </tr>\n",
       "    <tr>\n",
       "      <th>4</th>\n",
       "      <td>1.0</td>\n",
       "      <td>14</td>\n",
       "      <td>1</td>\n",
       "      <td>33.0</td>\n",
       "      <td>1</td>\n",
       "      <td>4</td>\n",
       "      <td>2.8</td>\n",
       "      <td>0</td>\n",
       "      <td>1</td>\n",
       "      <td>0</td>\n",
       "      <td>...</td>\n",
       "      <td>0</td>\n",
       "      <td>0</td>\n",
       "      <td>0</td>\n",
       "      <td>0</td>\n",
       "      <td>0</td>\n",
       "      <td>0</td>\n",
       "      <td>0</td>\n",
       "      <td>1</td>\n",
       "      <td>0</td>\n",
       "      <td>0</td>\n",
       "    </tr>\n",
       "  </tbody>\n",
       "</table>\n",
       "<p>5 rows × 27 columns</p>\n",
       "</div>"
      ],
      "text/plain": [
       "     0  max_floor  num_rooms   area  num_bathrooms  floor  ceiling_height  \\\n",
       "0  1.0          9          3   80.0              1      4             2.8   \n",
       "1  1.0         10          4  115.0              1      2             3.0   \n",
       "2  1.0         10          2   72.0              1      3             2.8   \n",
       "3  1.0          9          1   43.0              1      9             2.8   \n",
       "4  1.0         14          1   33.0              1      4             2.8   \n",
       "\n",
       "   condition_good  condition_newly repaired  condition_zero condition  \\\n",
       "0               1                         0                         0   \n",
       "1               0                         1                         0   \n",
       "2               0                         1                         0   \n",
       "3               1                         0                         0   \n",
       "4               0                         1                         0   \n",
       "\n",
       "          ...           district_Nor Norq  district_Norq Marash  \\\n",
       "0         ...                           0                     0   \n",
       "1         ...                           0                     0   \n",
       "2         ...                           0                     0   \n",
       "3         ...                           0                     0   \n",
       "4         ...                           0                     0   \n",
       "\n",
       "   district_Nubarashen  district_Qanaqer-Zeytun  district_Shengavit  \\\n",
       "0                    0                        0                   0   \n",
       "1                    0                        0                   0   \n",
       "2                    0                        0                   0   \n",
       "3                    0                        0                   0   \n",
       "4                    0                        0                   0   \n",
       "\n",
       "   district_Vahagni district  building_type_monolit  building_type_other  \\\n",
       "0                          0                      0                    0   \n",
       "1                          0                      1                    0   \n",
       "2                          0                      0                    0   \n",
       "3                          0                      0                    0   \n",
       "4                          0                      0                    1   \n",
       "\n",
       "   building_type_panel  building_type_stone  \n",
       "0                    1                    0  \n",
       "1                    0                    0  \n",
       "2                    1                    0  \n",
       "3                    1                    0  \n",
       "4                    0                    0  \n",
       "\n",
       "[5 rows x 27 columns]"
      ]
     },
     "execution_count": 86,
     "metadata": {
      "tags": []
     },
     "output_type": "execute_result"
    }
   ],
   "source": [
    "dfX = pd.concat([ones,dfX],  axis = 1)\n",
    "dfX.head()"
   ]
  },
  {
   "cell_type": "code",
   "execution_count": 87,
   "metadata": {
    "colab": {
     "autoexec": {
      "startup": false,
      "wait_interval": 0
     },
     "base_uri": "https://localhost:8080/",
     "height": 34,
     "output_extras": [
      {
       "item_id": 1
      }
     ]
    },
    "colab_type": "code",
    "collapsed": false,
    "executionInfo": {
     "elapsed": 834,
     "status": "ok",
     "timestamp": 1511968144641,
     "user": {
      "displayName": "Aram Tovmasyan",
      "photoUrl": "//lh6.googleusercontent.com/-9fVmqRTL8sg/AAAAAAAAAAI/AAAAAAAAAc8/vks2HBurbII/s50-c-k-no/photo.jpg",
      "userId": "111511278704442066586"
     },
     "user_tz": -240
    },
    "id": "OK7-Bts9_RIJ",
    "outputId": "4a858ac2-27e0-46eb-f3ba-0460cb6911cf"
   },
   "outputs": [
    {
     "data": {
      "text/plain": [
       "100745.48906537611"
      ]
     },
     "execution_count": 87,
     "metadata": {
      "tags": []
     },
     "output_type": "execute_result"
    }
   ],
   "source": [
    "cost_function(dfX, dfY, np.zeros(dfX.shape[1]))"
   ]
  },
  {
   "cell_type": "code",
   "execution_count": 204,
   "metadata": {
    "colab": {
     "autoexec": {
      "startup": false,
      "wait_interval": 0
     },
     "base_uri": "https://localhost:8080/",
     "height": 67,
     "output_extras": [
      {
       "item_id": 1
      },
      {
       "item_id": 2
      }
     ]
    },
    "colab_type": "code",
    "collapsed": false,
    "executionInfo": {
     "elapsed": 225628,
     "status": "ok",
     "timestamp": 1511983232972,
     "user": {
      "displayName": "Aram Tovmasyan",
      "photoUrl": "//lh6.googleusercontent.com/-9fVmqRTL8sg/AAAAAAAAAAI/AAAAAAAAAc8/vks2HBurbII/s50-c-k-no/photo.jpg",
      "userId": "111511278704442066586"
     },
     "user_tz": -240
    },
    "id": "KXfqR7aXcddj",
    "outputId": "2cf95b0c-00c0-4400-8e7c-da8cacbb2449"
   },
   "outputs": [
    {
     "name": "stdout",
     "output_type": "stream",
     "text": [
      "('gradient loss:', 29716.974568725276)\n",
      "6234\n"
     ]
    },
    {
     "data": {
      "text/plain": [
       "890514637.95046461"
      ]
     },
     "execution_count": 204,
     "metadata": {
      "tags": []
     },
     "output_type": "execute_result"
    }
   ],
   "source": [
    " #beta_hat_grad = gradient_descent(dfX, dfY, l=.0001, epsilon=1e-3, step_size=2.7e-8, max_steps=500)\n",
    "beta_hat_grad = gradient_descent(dfX, dfY, l=0, epsilon=1e-7, step_size=27e-5, max_steps=150000)\n",
    "print('gradient loss:', (l_gd))\n",
    "loss(dfX, dfY, beta_hat_grad)"
   ]
  },
  {
   "cell_type": "code",
   "execution_count": 183,
   "metadata": {
    "colab": {
     "autoexec": {
      "startup": false,
      "wait_interval": 0
     },
     "base_uri": "https://localhost:8080/",
     "height": 487,
     "output_extras": [
      {
       "item_id": 1
      }
     ]
    },
    "colab_type": "code",
    "collapsed": false,
    "executionInfo": {
     "elapsed": 834,
     "status": "ok",
     "timestamp": 1511971378204,
     "user": {
      "displayName": "Aram Tovmasyan",
      "photoUrl": "//lh6.googleusercontent.com/-9fVmqRTL8sg/AAAAAAAAAAI/AAAAAAAAAc8/vks2HBurbII/s50-c-k-no/photo.jpg",
      "userId": "111511278704442066586"
     },
     "user_tz": -240
    },
    "id": "CY6iccmPipjG",
    "outputId": "ea6457eb-b844-46dc-b0e0-094e50c6031a"
   },
   "outputs": [
    {
     "data": {
      "text/plain": [
       "0                            -2085.730273\n",
       "max_floor                     -214.196483\n",
       "num_rooms                    -8053.307968\n",
       "area                          1319.253917\n",
       "num_bathrooms                 5392.125434\n",
       "floor                          -73.055137\n",
       "ceiling_height               -2545.113892\n",
       "condition_good               -6326.573431\n",
       "condition_newly repaired      6257.717692\n",
       "condition_zero condition     -2016.874533\n",
       "district_Achapnyak           -2534.785257\n",
       "district_Arabkir             -1515.190472\n",
       "district_Avan                -2876.874279\n",
       "district_Center              17985.527291\n",
       "district_Davtashen           -2030.265386\n",
       "district_Erebuni             -1013.176989\n",
       "district_Malatia-Sebastia    -3279.179530\n",
       "district_Nor Norq            -2901.374385\n",
       "district_Norq Marash            36.648451\n",
       "district_Nubarashen            -15.314523\n",
       "district_Qanaqer-Zeytun      -1721.412903\n",
       "district_Shengavit           -2213.706070\n",
       "district_Vahagni district       -6.626220\n",
       "building_type_monolit         7141.834518\n",
       "building_type_other            575.701959\n",
       "building_type_panel         -10069.234970\n",
       "building_type_stone            265.968221\n",
       "dtype: float64"
      ]
     },
     "execution_count": 183,
     "metadata": {
      "tags": []
     },
     "output_type": "execute_result"
    }
   ],
   "source": [
    "beta_hat_grad "
   ]
  },
  {
   "cell_type": "code",
   "execution_count": 186,
   "metadata": {
    "colab": {
     "autoexec": {
      "startup": false,
      "wait_interval": 0
     },
     "base_uri": "https://localhost:8080/",
     "height": 67,
     "output_extras": [
      {
       "item_id": 1
      },
      {
       "item_id": 2
      }
     ]
    },
    "colab_type": "code",
    "collapsed": false,
    "executionInfo": {
     "elapsed": 960,
     "status": "ok",
     "timestamp": 1511971431872,
     "user": {
      "displayName": "Aram Tovmasyan",
      "photoUrl": "//lh6.googleusercontent.com/-9fVmqRTL8sg/AAAAAAAAAAI/AAAAAAAAAc8/vks2HBurbII/s50-c-k-no/photo.jpg",
      "userId": "111511278704442066586"
     },
     "user_tz": -240
    },
    "id": "ueBpTmgBiGu9",
    "outputId": "7c6d4ba4-7003-4f5b-b49c-14213f451da4"
   },
   "outputs": [
    {
     "name": "stdout",
     "output_type": "stream",
     "text": [
      "('gradient loss:', 34511.379532039944)\n",
      "6234\n"
     ]
    },
    {
     "data": {
      "text/plain": [
       "1191035317.2045054"
      ]
     },
     "execution_count": 186,
     "metadata": {
      "tags": []
     },
     "output_type": "execute_result"
    }
   ],
   "source": [
    "l_gd=cost_function(dfX, dfY, beta_hat_grad)#loss(dfX, dfY, beta_hat_grad)\n",
    "print('gradient loss:', (l_gd))\n",
    "loss(dfX, dfY, beta_hat_grad)"
   ]
  },
  {
   "cell_type": "code",
   "execution_count": 176,
   "metadata": {
    "colab": {
     "autoexec": {
      "startup": false,
      "wait_interval": 0
     },
     "base_uri": "https://localhost:8080/",
     "height": 1059,
     "output_extras": [
      {
       "item_id": 1
      }
     ]
    },
    "colab_type": "code",
    "collapsed": false,
    "executionInfo": {
     "elapsed": 1259,
     "status": "ok",
     "timestamp": 1511971144637,
     "user": {
      "displayName": "Aram Tovmasyan",
      "photoUrl": "//lh6.googleusercontent.com/-9fVmqRTL8sg/AAAAAAAAAAI/AAAAAAAAAc8/vks2HBurbII/s50-c-k-no/photo.jpg",
      "userId": "111511278704442066586"
     },
     "user_tz": -240
    },
    "id": "AOcC3Y1fgrEz",
    "outputId": "e81f7ee1-339d-46d1-9953-b7d9d8a1c8d8"
   },
   "outputs": [
    {
     "name": "stdout",
     "output_type": "stream",
     "text": [
      "0      -20595.395308\n",
      "1       10237.590689\n",
      "2        1004.585318\n",
      "3       -5993.986248\n",
      "4      -18107.062259\n",
      "5      -29923.641482\n",
      "6        5999.067271\n",
      "7       28685.049836\n",
      "8       -4692.103913\n",
      "9      -23922.853844\n",
      "10      -1605.911139\n",
      "11      14690.160312\n",
      "12      18690.575792\n",
      "13       3256.362415\n",
      "14      35366.474180\n",
      "15      -7500.383566\n",
      "16     -61490.105137\n",
      "17      36057.524727\n",
      "18      -6820.123433\n",
      "19      -5378.108030\n",
      "20     -21590.001808\n",
      "21       8225.533068\n",
      "22      12958.410739\n",
      "23      23106.131529\n",
      "24      41552.301593\n",
      "25      -5493.909357\n",
      "26      55423.806864\n",
      "27     -10323.737885\n",
      "28     -15547.206183\n",
      "29       1306.556060\n",
      "            ...     \n",
      "6204     3789.689019\n",
      "6205     8872.979435\n",
      "6206     2157.151317\n",
      "6207    -2383.976575\n",
      "6208     6910.261768\n",
      "6209   -51598.961639\n",
      "6210    -9764.387447\n",
      "6211    12181.458451\n",
      "6212      359.610917\n",
      "6213    -1303.183422\n",
      "6214    -6204.761839\n",
      "6215    -4147.102001\n",
      "6216    14373.431715\n",
      "6217     4546.568588\n",
      "6218   -12908.005878\n",
      "6219   -13841.403262\n",
      "6220   -10500.045593\n",
      "6221    -2623.392587\n",
      "6222    12166.207393\n",
      "6223    -3950.855466\n",
      "6224     -965.015055\n",
      "6225   -43146.685011\n",
      "6226     3257.617073\n",
      "6227     5895.300348\n",
      "6228    29287.170594\n",
      "6229    20966.642632\n",
      "6230    29729.351262\n",
      "6231    29560.184754\n",
      "6232    -9055.665559\n",
      "6233     8422.295047\n",
      "Name: price, Length: 6234, dtype: float64\n"
     ]
    }
   ],
   "source": [
    "print((dfY-np.dot(dfX,beta_hat_grad)))"
   ]
  },
  {
   "cell_type": "code",
   "execution_count": 60,
   "metadata": {
    "colab": {
     "autoexec": {
      "startup": false,
      "wait_interval": 0
     },
     "base_uri": "https://localhost:8080/",
     "height": 282,
     "output_extras": [
      {
       "item_id": 1
      },
      {
       "item_id": 2
      }
     ]
    },
    "colab_type": "code",
    "collapsed": false,
    "executionInfo": {
     "elapsed": 2440,
     "status": "ok",
     "timestamp": 1511966460261,
     "user": {
      "displayName": "Aram Tovmasyan",
      "photoUrl": "//lh6.googleusercontent.com/-9fVmqRTL8sg/AAAAAAAAAAI/AAAAAAAAAc8/vks2HBurbII/s50-c-k-no/photo.jpg",
      "userId": "111511278704442066586"
     },
     "user_tz": -240
    },
    "id": "pcIFYOr7hRY0",
    "outputId": "fbb65a1a-5b64-4dec-8c75-604a320f1835"
   },
   "outputs": [
    {
     "data": {
      "text/plain": [
       "[<matplotlib.lines.Line2D at 0x7f03266fe790>]"
      ]
     },
     "execution_count": 60,
     "metadata": {
      "tags": []
     },
     "output_type": "execute_result"
    },
    {
     "data": {
      "image/png": "[encoded data removed]",
      "text/plain": [
       "<matplotlib.figure.Figure at 0x7f032676c490>"
      ]
     },
     "metadata": {
      "tags": []
     },
     "output_type": "display_data"
    }
   ],
   "source": [
    "import matplotlib.pyplot as plt\n",
    "%matplotlib inline\n",
    "plt.plot(dfX['area'], 100000*(dfY), 'bo')\n",
    "#plt.plot(dfX['area'], np.dot(beta_hat_grad.T,dfX.T), 'r--')\n",
    "plt.plot(dfX['area'], 100000*(np.dot(dfX,beta_hat_grad)), 'r--')"
   ]
  },
  {
   "cell_type": "code",
   "execution_count": 0,
   "metadata": {
    "colab": {
     "autoexec": {
      "startup": false,
      "wait_interval": 0
     }
    },
    "colab_type": "code",
    "collapsed": true,
    "id": "45flhogod9PU"
   },
   "outputs": [],
   "source": []
  }
 ],
 "metadata": {
  "colab": {
   "collapsed_sections": [],
   "default_view": {},
   "name": "Copy of Regression_gradient descent_homework_istc.ipynb",
   "provenance": [],
   "version": "0.3.2",
   "views": {}
  },
  "kernelspec": {
   "display_name": "Python 3",
   "language": "python",
   "name": "python3"
  },
  "language_info": {
   "codemirror_mode": {
    "name": "ipython",
    "version": 3
   },
   "file_extension": ".py",
   "mimetype": "text/x-python",
   "name": "python",
   "nbconvert_exporter": "python",
   "pygments_lexer": "ipython3",
   "version": "3.6.0"
  }
 },
 "nbformat": 4,
 "nbformat_minor": 0
}
